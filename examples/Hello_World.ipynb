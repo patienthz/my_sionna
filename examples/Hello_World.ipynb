{
 "cells": [
  {
   "cell_type": "markdown",
   "id": "b01e3f8f",
   "metadata": {},
   "source": [
    "# “Hello, world!”"
   ]
  },
  {
   "cell_type": "markdown",
   "id": "f83f9e3c",
   "metadata": {},
   "source": [
    "Import Sionna:"
   ]
  },
  {
   "cell_type": "markdown",
   "id": "e129eed1",
   "metadata": {},
   "source": [
    "这部分是用来配置基本的环境"
   ]
  },
  {
   "cell_type": "code",
   "execution_count": 1,
   "id": "6e7121a9",
   "metadata": {
    "tags": []
   },
   "outputs": [],
   "source": [
    "import os\n",
    "gpu_num = 0 # Use \"\" to use the CPU\n",
    "os.environ[\"CUDA_VISIBLE_DEVICES\"] = f\"{gpu_num}\"\n",
    "os.environ['TF_CPP_MIN_LOG_LEVEL'] = '3'\n",
    "\n",
    "# Import Sionna\n",
    "try:\n",
    "    import sionna\n",
    "except ImportError as e:\n",
    "    # Install Sionna if package is not already installed\n",
    "    import os\n",
    "    os.system(\"pip install sionna\")\n",
    "    import sionna\n",
    "    \n",
    "# IPython \"magic function\" for inline plots\n",
    "%matplotlib inline\n",
    "import matplotlib.pyplot as plt"
   ]
  },
  {
   "cell_type": "markdown",
   "id": "f7c64ad8",
   "metadata": {},
   "source": [
    "Let us first create a [BinarySource](https://nvlabs.github.io/sionna/api/utils.html?highlight=binarysource#binarysource) to generate a random batch of bit vectors that we can map to constellation symbols:"
   ]
  },
  {
   "cell_type": "markdown",
   "id": "02ca8741",
   "metadata": {},
   "source": [
    "- `batch_size`是**随机二进制序列**的大小；被设置为1000，表示要生成**1000**个符号\n",
    "- `num_bits_per_symbol`是每个随机数的位数，为**4位**\n",
    "- `sionna.utils.BinarySource`这是一个类，作用是用于生成随机的二进制序列，创建了一个对象`binary_source `\n",
    "- 通过调用`binary_source([batch_size, num_bits_per_symbol])`方法，生成了一个形状为`(batch_size, num_bits_per_symbol)`的二进制矩阵，其中每行表示一个符号，每列表示一个比特\n",
    "- 生成的随机二进制序列存储在变量`b`中"
   ]
  },
  {
   "cell_type": "code",
   "execution_count": 4,
   "id": "29709884",
   "metadata": {},
   "outputs": [
    {
     "data": {
      "text/plain": [
       "<tf.Tensor: shape=(1000, 4), dtype=float32, numpy=\n",
       "array([[1., 1., 1., 0.],\n",
       "       [1., 0., 1., 1.],\n",
       "       [1., 1., 0., 1.],\n",
       "       ...,\n",
       "       [1., 0., 0., 0.],\n",
       "       [0., 1., 1., 1.],\n",
       "       [0., 0., 1., 0.]], dtype=float32)>"
      ]
     },
     "execution_count": 4,
     "metadata": {},
     "output_type": "execute_result"
    }
   ],
   "source": [
    "batch_size = 1000 # Number of symbols we want to generate\n",
    "num_bits_per_symbol = 4 # 16-QAM has four bits per symbol\n",
    "binary_source = sionna.utils.BinarySource()\n",
    "b = binary_source([batch_size, num_bits_per_symbol])\n",
    "b"
   ]
  },
  {
   "cell_type": "markdown",
   "id": "3b2026eb",
   "metadata": {},
   "source": [
    "Next, let us create a [Constellation](https://nvlabs.github.io/sionna/api/mapping.html#sionna.mapping.Constellation) and visualize it:"
   ]
  },
  {
   "cell_type": "code",
   "execution_count": 5,
   "id": "6aea6ae4",
   "metadata": {},
   "outputs": [
    {
     "ename": "KeyboardInterrupt",
     "evalue": "",
     "output_type": "error",
     "traceback": [
      "\u001b[0;31m---------------------------------------------------------------------------\u001b[0m",
      "\u001b[0;31mKeyboardInterrupt\u001b[0m                         Traceback (most recent call last)",
      "Cell \u001b[0;32mIn[5], line 1\u001b[0m\n\u001b[0;32m----> 1\u001b[0m constellation \u001b[38;5;241m=\u001b[39m \u001b[43msionna\u001b[49m\u001b[38;5;241m.\u001b[39mmapping\u001b[38;5;241m.\u001b[39mConstellation(\u001b[38;5;124m\"\u001b[39m\u001b[38;5;124mqam\u001b[39m\u001b[38;5;124m\"\u001b[39m, num_bits_per_symbol)\n\u001b[1;32m      2\u001b[0m constellation\u001b[38;5;241m.\u001b[39mshow();\n",
      "Cell \u001b[0;32mIn[5], line 1\u001b[0m\n\u001b[0;32m----> 1\u001b[0m constellation \u001b[38;5;241m=\u001b[39m \u001b[43msionna\u001b[49m\u001b[38;5;241m.\u001b[39mmapping\u001b[38;5;241m.\u001b[39mConstellation(\u001b[38;5;124m\"\u001b[39m\u001b[38;5;124mqam\u001b[39m\u001b[38;5;124m\"\u001b[39m, num_bits_per_symbol)\n\u001b[1;32m      2\u001b[0m constellation\u001b[38;5;241m.\u001b[39mshow();\n",
      "File \u001b[0;32m_pydevd_bundle/pydevd_cython.pyx:1457\u001b[0m, in \u001b[0;36m_pydevd_bundle.pydevd_cython.SafeCallWrapper.__call__\u001b[0;34m()\u001b[0m\n",
      "File \u001b[0;32m_pydevd_bundle/pydevd_cython.pyx:701\u001b[0m, in \u001b[0;36m_pydevd_bundle.pydevd_cython.PyDBFrame.trace_dispatch\u001b[0;34m()\u001b[0m\n",
      "File \u001b[0;32m_pydevd_bundle/pydevd_cython.pyx:1152\u001b[0m, in \u001b[0;36m_pydevd_bundle.pydevd_cython.PyDBFrame.trace_dispatch\u001b[0;34m()\u001b[0m\n",
      "File \u001b[0;32m_pydevd_bundle/pydevd_cython.pyx:1135\u001b[0m, in \u001b[0;36m_pydevd_bundle.pydevd_cython.PyDBFrame.trace_dispatch\u001b[0;34m()\u001b[0m\n",
      "File \u001b[0;32m_pydevd_bundle/pydevd_cython.pyx:312\u001b[0m, in \u001b[0;36m_pydevd_bundle.pydevd_cython.PyDBFrame.do_wait_suspend\u001b[0;34m()\u001b[0m\n",
      "File \u001b[0;32m~/anaconda3/envs/tf/lib/python3.10/site-packages/debugpy/_vendored/pydevd/pydevd.py:2070\u001b[0m, in \u001b[0;36mPyDB.do_wait_suspend\u001b[0;34m(self, thread, frame, event, arg, exception_type)\u001b[0m\n\u001b[1;32m   2067\u001b[0m             from_this_thread\u001b[38;5;241m.\u001b[39mappend(frame_custom_thread_id)\n\u001b[1;32m   2069\u001b[0m     \u001b[38;5;28;01mwith\u001b[39;00m \u001b[38;5;28mself\u001b[39m\u001b[38;5;241m.\u001b[39m_threads_suspended_single_notification\u001b[38;5;241m.\u001b[39mnotify_thread_suspended(thread_id, thread, stop_reason):\n\u001b[0;32m-> 2070\u001b[0m         keep_suspended \u001b[38;5;241m=\u001b[39m \u001b[38;5;28;43mself\u001b[39;49m\u001b[38;5;241;43m.\u001b[39;49m\u001b[43m_do_wait_suspend\u001b[49m\u001b[43m(\u001b[49m\u001b[43mthread\u001b[49m\u001b[43m,\u001b[49m\u001b[43m \u001b[49m\u001b[43mframe\u001b[49m\u001b[43m,\u001b[49m\u001b[43m \u001b[49m\u001b[43mevent\u001b[49m\u001b[43m,\u001b[49m\u001b[43m \u001b[49m\u001b[43marg\u001b[49m\u001b[43m,\u001b[49m\u001b[43m \u001b[49m\u001b[43msuspend_type\u001b[49m\u001b[43m,\u001b[49m\u001b[43m \u001b[49m\u001b[43mfrom_this_thread\u001b[49m\u001b[43m,\u001b[49m\u001b[43m \u001b[49m\u001b[43mframes_tracker\u001b[49m\u001b[43m)\u001b[49m\n\u001b[1;32m   2072\u001b[0m frames_list \u001b[38;5;241m=\u001b[39m \u001b[38;5;28;01mNone\u001b[39;00m\n\u001b[1;32m   2074\u001b[0m \u001b[38;5;28;01mif\u001b[39;00m keep_suspended:\n\u001b[1;32m   2075\u001b[0m     \u001b[38;5;66;03m# This means that we should pause again after a set next statement.\u001b[39;00m\n",
      "File \u001b[0;32m~/anaconda3/envs/tf/lib/python3.10/site-packages/debugpy/_vendored/pydevd/pydevd.py:2106\u001b[0m, in \u001b[0;36mPyDB._do_wait_suspend\u001b[0;34m(self, thread, frame, event, arg, suspend_type, from_this_thread, frames_tracker)\u001b[0m\n\u001b[1;32m   2103\u001b[0m         \u001b[38;5;28mself\u001b[39m\u001b[38;5;241m.\u001b[39m_call_input_hook()\n\u001b[1;32m   2105\u001b[0m     \u001b[38;5;28mself\u001b[39m\u001b[38;5;241m.\u001b[39mprocess_internal_commands()\n\u001b[0;32m-> 2106\u001b[0m     \u001b[43mtime\u001b[49m\u001b[38;5;241;43m.\u001b[39;49m\u001b[43msleep\u001b[49m\u001b[43m(\u001b[49m\u001b[38;5;241;43m0.01\u001b[39;49m\u001b[43m)\u001b[49m\n\u001b[1;32m   2108\u001b[0m \u001b[38;5;28mself\u001b[39m\u001b[38;5;241m.\u001b[39mcancel_async_evaluation(get_current_thread_id(thread), \u001b[38;5;28mstr\u001b[39m(\u001b[38;5;28mid\u001b[39m(frame)))\n\u001b[1;32m   2110\u001b[0m \u001b[38;5;66;03m# process any stepping instructions\u001b[39;00m\n",
      "\u001b[0;31mKeyboardInterrupt\u001b[0m: "
     ]
    }
   ],
   "source": [
    "constellation = sionna.mapping.Constellation(\"qam\", num_bits_per_symbol)\n",
    "constellation.show();"
   ]
  },
  {
   "cell_type": "markdown",
   "id": "d95dd632",
   "metadata": {},
   "source": [
    "We now need a [Mapper](https://nvlabs.github.io/sionna/api/mapping.html#mapper) that maps each row of b to the constellation symbols according to the bit labeling shown above."
   ]
  },
  {
   "cell_type": "code",
   "execution_count": 4,
   "id": "e7d79b3f",
   "metadata": {},
   "outputs": [
    {
     "data": {
      "text/plain": [
       "<tf.Tensor: shape=(10, 1), dtype=complex64, numpy=\n",
       "array([[-0.9486833+0.3162278j],\n",
       "       [ 0.9486833-0.9486833j],\n",
       "       [ 0.3162278-0.3162278j],\n",
       "       [-0.3162278-0.3162278j],\n",
       "       [ 0.9486833-0.3162278j],\n",
       "       [-0.3162278+0.3162278j],\n",
       "       [ 0.3162278-0.3162278j],\n",
       "       [-0.9486833-0.9486833j],\n",
       "       [ 0.9486833+0.3162278j],\n",
       "       [ 0.9486833+0.9486833j]], dtype=complex64)>"
      ]
     },
     "execution_count": 4,
     "metadata": {},
     "output_type": "execute_result"
    }
   ],
   "source": [
    "mapper = sionna.mapping.Mapper(constellation=constellation)\n",
    "x = mapper(b)\n",
    "x[:10]"
   ]
  },
  {
   "cell_type": "markdown",
   "id": "bb549a7f",
   "metadata": {},
   "source": [
    "Let us now make things a bit more interesting a send our symbols over and [AWGN channel](https://nvlabs.github.io/sionna/api/channel.html#sionna.channel.AWGN):"
   ]
  },
  {
   "cell_type": "code",
   "execution_count": 5,
   "id": "5b74e2d5",
   "metadata": {},
   "outputs": [
    {
     "data": {
      "image/png": "[encoded data removed]",
      "text/plain": [
       "<Figure size 504x504 with 1 Axes>"
      ]
     },
     "metadata": {
      "needs_background": "light"
     },
     "output_type": "display_data"
    }
   ],
   "source": [
    "awgn = sionna.channel.AWGN()\n",
    "ebno_db = 15 # Desired Eb/No in dB\n",
    "no = sionna.utils.ebnodb2no(ebno_db, num_bits_per_symbol, coderate=1)\n",
    "y = awgn([x, no])\n",
    "\n",
    "# Visualize the received signal\n",
    "import matplotlib.pyplot as plt\n",
    "import numpy as np\n",
    "\n",
    "fig = plt.figure(figsize=(7,7))\n",
    "ax = fig.add_subplot(111)\n",
    "plt.scatter(np.real(y), np.imag(y));\n",
    "ax.set_aspect(\"equal\", adjustable=\"box\")\n",
    "plt.xlabel(\"Real Part\")\n",
    "plt.ylabel(\"Imaginary Part\")\n",
    "plt.grid(True, which=\"both\", axis=\"both\")\n",
    "plt.title(\"Received Symbols\");"
   ]
  }
 ],
 "metadata": {
  "kernelspec": {
   "display_name": "Python 3 (ipykernel)",
   "language": "python",
   "name": "python3"
  },
  "language_info": {
   "codemirror_mode": {
    "name": "ipython",
    "version": 3
   },
   "file_extension": ".py",
   "mimetype": "text/x-python",
   "name": "python",
   "nbconvert_exporter": "python",
   "pygments_lexer": "ipython3",
   "version": "3.10.0"
  },
  "widgets": {
   "application/vnd.jupyter.widget-state+json": {
    "state": {},
    "version_major": 2,
    "version_minor": 0
   }
  }
 },
 "nbformat": 4,
 "nbformat_minor": 5
}
