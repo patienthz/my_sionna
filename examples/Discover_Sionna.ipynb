{
 "cells": [
  {
   "cell_type": "markdown",
   "metadata": {},
   "source": [
    "## Discover Sionna\n",
    "\n",
    "This example notebook will guide you through the basic principles and illustrates the key features of [Sionna](https://nvlabs.github.io/sionna).\n",
    "With only a few commands, you can simulate the PHY-layer link-level performance for many 5G-compliant components, including easy visualization of the results.\n"
   ]
  },
  {
   "cell_type": "markdown",
   "metadata": {},
   "source": [
    "`PHY-layer link-level`（物理层链路水平）是指在网络通信中，涉及到物理层和链路层的一种通信水平或协议。这个术语通常用于描述网络协议栈中不同层次的通信功能和责任。\n",
    "\n",
    "具体来说，PHY-layer link-level 包含以下几个方面：\n",
    "\n",
    "1. **物理层（PHY Layer）**：负责在网络设备之间传输原始比特流，处理信号传输、调制解调、信道编解码等功能。物理层的任务是将数字信号转换为模拟信号（调制），在物理媒介上进行传输，然后再将模拟信号转换回数字信号（解调）。\n",
    "\n",
    "2. **链路层（Link Layer）**：负责在相邻节点之间建立、管理和维护数据链路，处理数据帧的传输、流量控制、错误检测和纠正等功能。链路层的任务是确保可靠的点对点通信，并通过帧的发送和接收来处理数据的传输。\n",
    "\n",
    "在PHY-layer link-level中，物理层和链路层密切合作，共同实现数据的传输和通信。物理层负责将数据转换为适合在物理媒介上传输的形式，而链路层负责将这些数据封装成数据帧，并通过物理链路传输到目的地。\n",
    "\n",
    "这种分层结构有助于提高网络通信的灵活性和可靠性，同时也使得不同层次的功能更易于管理和维护。PHY-layer link-level的实现通常依赖于特定的通信协议和硬件设备，例如以太网、Wi-Fi、蓝牙等。"
   ]
  },
  {
   "cell_type": "markdown",
   "metadata": {},
   "source": [
    "### Load Required Packages\n",
    "\n",
    "The Sionna python package must be [installed](https://nvlabs.github.io/sionna/installation.html)."
   ]
  },
  {
   "cell_type": "markdown",
   "metadata": {},
   "source": [
    "设置环境并导入包"
   ]
  },
  {
   "cell_type": "code",
   "execution_count": 1,
   "metadata": {},
   "outputs": [],
   "source": [
    "import os\n",
    "gpu_num = 0 # Use \"\" to use the CPU\n",
    "# 设置环境变量，目的是将变量 gpu_num 所指定的GPU设备编号（通常是一个整数）作为字符串赋值给 CUDA_VISIBLE_DEVICES 环境变量，以便在运行CUDA应用程序时指定使用的GPU设备\n",
    "os.environ[\"CUDA_VISIBLE_DEVICES\"] = f\"{gpu_num}\"\n",
    "# TF_CPP_MIN_LOG_LEVEL'：是TensorFlow中的一个环境变量，用于控制TensorFlow的日志输出级别\n",
    "# 设置为 '3'，意味着只会输出ERROR和FATAL级别的日志信息\n",
    "os.environ['TF_CPP_MIN_LOG_LEVEL'] = '3'\n",
    "\n",
    "# Import Sionna\n",
    "try:\n",
    "    import sionna\n",
    "except ImportError as e:\n",
    "    # Install Sionna if package is not already installed\n",
    "    import os\n",
    "    os.system(\"pip install sionna\")\n",
    "    import sionna\n",
    "\n",
    "import numpy as np\n",
    "import tensorflow as tf\n",
    "# Avoid warnings from TensorFlow\n",
    "tf.get_logger().setLevel('ERROR')\n",
    "\n",
    "# IPython \"magic function\" for inline plots\n",
    "%matplotlib inline\n",
    "import matplotlib.pyplot as plt"
   ]
  },
  {
   "cell_type": "markdown",
   "metadata": {},
   "source": [
    "**Tip**: you can run bash commands in Jupyter via the `!` operator."
   ]
  },
  {
   "cell_type": "code",
   "execution_count": 2,
   "metadata": {},
   "outputs": [
    {
     "name": "stdout",
     "output_type": "stream",
     "text": [
      "Fri Jun 14 21:11:13 2024       \n",
      "+---------------------------------------------------------------------------------------+\n",
      "| NVIDIA-SMI 535.129.03             Driver Version: 535.129.03   CUDA Version: 12.2     |\n",
      "|-----------------------------------------+----------------------+----------------------+\n",
      "| GPU  Name                 Persistence-M | Bus-Id        Disp.A | Volatile Uncorr. ECC |\n",
      "| Fan  Temp   Perf          Pwr:Usage/Cap |         Memory-Usage | GPU-Util  Compute M. |\n",
      "|                                         |                      |               MIG M. |\n",
      "|=========================================+======================+======================|\n",
      "|   0  NVIDIA GeForce RTX 4090        On  | 00000000:99:00.0 Off |                  Off |\n",
      "| 30%   40C    P2             173W / 450W |  23104MiB / 24564MiB |     55%      Default |\n",
      "|                                         |                      |                  N/A |\n",
      "+-----------------------------------------+----------------------+----------------------+\n",
      "                                                                                         \n",
      "+---------------------------------------------------------------------------------------+\n",
      "| Processes:                                                                            |\n",
      "|  GPU   GI   CI        PID   Type   Process name                            GPU Memory |\n",
      "|        ID   ID                                                             Usage      |\n",
      "|=======================================================================================|\n",
      "+---------------------------------------------------------------------------------------+\n"
     ]
    }
   ],
   "source": [
    "!nvidia-smi"
   ]
  },
  {
   "cell_type": "markdown",
   "metadata": {},
   "source": [
    "In case multiple GPUs are available, we restrict this notebook to single-GPU usage. You can ignore this command if only one GPU is available.\n",
    "\n",
    "Further, we want to avoid that this notebook instantiates the whole GPU memory when initialized and set `memory_growth` as active.\n",
    "\n",
    "*Remark*: Sionna does not require a GPU. Everything can also run on your CPU - but you may need to wait a little longer."
   ]
  },
  {
   "cell_type": "markdown",
   "metadata": {},
   "source": [
    "用于展示可用的GPU的数量及编号"
   ]
  },
  {
   "cell_type": "code",
   "execution_count": 3,
   "metadata": {},
   "outputs": [
    {
     "name": "stdout",
     "output_type": "stream",
     "text": [
      "Number of GPUs available : 1\n",
      "Only GPU number 0 used.\n"
     ]
    }
   ],
   "source": [
    "# Configure the notebook to use only a single GPU and allocate only as much memory as needed\n",
    "# For more details, see https://www.tensorflow.org/guide/gpu\n",
    "gpus = tf.config.list_physical_devices('GPU')\n",
    "print('Number of GPUs available :', len(gpus))\n",
    "if gpus:\n",
    "    gpu_num = 0 # Index of the GPU to be used\n",
    "    try:\n",
    "        #tf.config.set_visible_devices([], 'GPU')\n",
    "        tf.config.set_visible_devices(gpus[gpu_num], 'GPU')\n",
    "        print('Only GPU number', gpu_num, 'used.')\n",
    "        tf.config.experimental.set_memory_growth(gpus[gpu_num], True)\n",
    "    except RuntimeError as e:\n",
    "        print(e)"
   ]
  },
  {
   "cell_type": "markdown",
   "metadata": {},
   "source": [
    "### Sionna Data-flow and Design Paradigms\n",
    "\n",
    "Sionna inherently parallelizes simulations via *batching*, i.e., each element in the batch dimension is simulated independently.\n",
    "\n",
    "This means the first tensor dimension is always used for *inter-frame* parallelization similar to an outer *for-loop* in Matlab/NumPy simulations.\n",
    "\n",
    "To keep the dataflow efficient, Sionna follows a few simple design principles:\n",
    "\n",
    "* Signal-processing components are implemented as an individual [Keras layer](https://keras.io/api/layers/).\n",
    "* `tf.float32` is used as preferred datatype and `tf.complex64` for complex-valued datatypes, respectively.  \n",
    "This allows simpler re-use of components (e.g., the same scrambling layer can be used for binary inputs and LLR-values).\n",
    "* Models can be developed in *eager mode* allowing simple (and fast) modification of system parameters.\n",
    "* Number crunching simulations can be executed in the faster *graph mode* or even *XLA* acceleration is available for most components.\n",
    "* Whenever possible, components are automatically differentiable via [auto-grad](https://www.tensorflow.org/guide/autodiff) to simplify the deep learning design-flow.\n",
    "* Code is structured into sub-packages for different tasks such as channel coding, mapping,... (see [API documentation](https://nvlabs.github.io/sionna/api/sionna.html) for details).\n",
    "\n",
    "The division into individual blocks simplifies deployment and all layers and functions comes with unittests to ensure their correct behavior.\n",
    "\n",
    "These paradigms simplify the re-useability and reliability of our components for a wide range of communications related applications."
   ]
  },
  {
   "cell_type": "markdown",
   "metadata": {},
   "source": [
    "### Let's Get Started - The First Layers (*Eager Mode*)\n",
    "\n",
    "Every layer needs to be initialized once before it can be used.\n",
    "\n",
    "**Tip**: use the [API documentation](https://nvlabs.github.io/sionna/api/sionna.html) to find an overview of all existing components.\n",
    "\n",
    "We now want to transmit some symbols over an AWGN channel.\n",
    "First, we need to initialize the corresponding layer."
   ]
  },
  {
   "cell_type": "code",
   "execution_count": 4,
   "metadata": {},
   "outputs": [],
   "source": [
    "channel = sionna.channel.AWGN() # init AWGN channel layer"
   ]
  },
  {
   "cell_type": "markdown",
   "metadata": {},
   "source": [
    "In this first example, we want to add Gaussian noise to some given values of `x`.\n",
    "\n",
    "Remember - the first dimension is the *batch-dimension*.\n",
    "\n",
    "We simulate 2 message frames each containing 4 symbols.\n",
    "\n",
    "*Remark*: the [AWGN channel](https://nvlabs.github.io/sionna/api/channel.html#awgn) is defined to be complex-valued."
   ]
  },
  {
   "cell_type": "code",
   "execution_count": 5,
   "metadata": {},
   "outputs": [
    {
     "name": "stdout",
     "output_type": "stream",
     "text": [
      "Shape of x:  (2, 4)\n",
      "Values of x:  tf.Tensor(\n",
      "[[ 0. +0.j  1.5+0.j  1. +0.j  0. +0.j]\n",
      " [-1. +0.j  0. +0.j -2. +0.j  3. +0.j]], shape=(2, 4), dtype=complex64)\n"
     ]
    }
   ],
   "source": [
    "# define a (complex-valued) tensor to be transmitted\n",
    "x = tf.constant([[0., 1.5, 1., 0.],[-1., 0., -2, 3 ]], dtype=tf.complex64)\n",
    "\n",
    "# let's have look at the shape\n",
    "print(\"Shape of x: \", x.shape)\n",
    "print(\"Values of x: \", x)"
   ]
  },
  {
   "cell_type": "markdown",
   "metadata": {},
   "source": [
    "We want to simulate the channel at an SNR of 5 dB.\n",
    "For this, we can simply *call* the previously defined layer `channel`.\n",
    "\n",
    "If you have never used  [Keras](https://keras.io) you can think of a layer as of a function: it has an input and returns the processed output.\n",
    "\n",
    "*Remark*: Each time this cell is executed a new noise realization is drawn."
   ]
  },
  {
   "cell_type": "code",
   "execution_count": 6,
   "metadata": {},
   "outputs": [
    {
     "name": "stdout",
     "output_type": "stream",
     "text": [
      "Noisy symbols are:  tf.Tensor(\n",
      "[[ 0.31495026-0.32261845j  1.7539729 +0.1601752j   0.9782761 -0.23446698j\n",
      "  -0.03831759-0.11075902j]\n",
      " [-0.5892213 -0.06649271j -0.00448244+0.06422676j -1.8331838 +0.41748914j\n",
      "   2.7026768 +0.211327j  ]], shape=(2, 4), dtype=complex64)\n"
     ]
    }
   ],
   "source": [
    "ebno_db = 5\n",
    "\n",
    "# calculate noise variance from given EbNo\n",
    "no = sionna.utils.ebnodb2no(ebno_db = ebno_db,\n",
    "                            num_bits_per_symbol=2, # QPSK\n",
    "                            coderate=1) \n",
    "y = channel([x, no])\n",
    "\n",
    "print(\"Noisy symbols are: \", y)"
   ]
  },
  {
   "cell_type": "markdown",
   "metadata": {},
   "source": [
    "### Batches and Multi-dimensional Tensors\n",
    "\n",
    "Sionna natively supports multi-dimensional tensors.\n",
    "\n",
    "Most layers operate at the last dimension and can have arbitrary input shapes (preserved at output).\n",
    "\n",
    "Let us assume we want to add a CRC-24 check to 64 codewords of length 500 (e.g., different CRC per sub-carrier).\n",
    "Further, we want to parallelize the simulation over a batch of 100 samples."
   ]
  },
  {
   "cell_type": "code",
   "execution_count": 7,
   "metadata": {},
   "outputs": [
    {
     "name": "stdout",
     "output_type": "stream",
     "text": [
      "Shape of u:  (100, 64, 500)\n",
      "Shape of c:  (100, 64, 524)\n",
      "Processed bits:  3353600\n",
      "Shape of u_hat:  (100, 64, 500)\n",
      "Shape of crc_valid:  (100, 64, 1)\n",
      "Valid CRC check of first codeword:  True\n"
     ]
    }
   ],
   "source": [
    "batch_size = 100 # outer level of parallelism\n",
    "num_codewords = 64 # codewords per batch sample\n",
    "info_bit_length = 500 # info bits PER codeword\n",
    "\n",
    "source = sionna.utils.BinarySource() # yields random bits\n",
    "\n",
    "u = source([batch_size, num_codewords, info_bit_length]) # call the source layer\n",
    "print(\"Shape of u: \", u.shape)\n",
    "\n",
    "# initialize an CRC encoder with the standard compliant \"CRC24A\" polynomial\n",
    "encoder_crc = sionna.fec.crc.CRCEncoder(\"CRC24A\")\n",
    "decoder_crc = sionna.fec.crc.CRCDecoder(encoder_crc) # connect to encoder\n",
    "\n",
    "# add the CRC to the information bits u\n",
    "c = encoder_crc(u) # returns a list [c, crc_valid]\n",
    "print(\"Shape of c: \", c.shape)\n",
    "print(\"Processed bits: \", np.size(c.numpy()))\n",
    "\n",
    "# we can also verify the results\n",
    "# returns list of [info bits without CRC bits, indicator if CRC holds]\n",
    "u_hat, crc_valid = decoder_crc(c) \n",
    "print(\"Shape of u_hat: \", u_hat.shape)\n",
    "print(\"Shape of crc_valid: \", crc_valid.shape)\n",
    "\n",
    "print(\"Valid CRC check of first codeword: \", crc_valid.numpy()[0,0,0])"
   ]
  },
  {
   "cell_type": "markdown",
   "metadata": {},
   "source": [
    "We want to do another simulation but for 5 independent users.\n",
    "\n",
    "Instead of defining 5 different tensors, we can simply add another dimension."
   ]
  },
  {
   "cell_type": "code",
   "execution_count": 8,
   "metadata": {},
   "outputs": [
    {
     "name": "stdout",
     "output_type": "stream",
     "text": [
      "New shape of u:  (100, 5, 64, 500)\n",
      "New shape of c:  (100, 5, 64, 524)\n",
      "Processed bits:  16768000\n"
     ]
    }
   ],
   "source": [
    "num_users = 5\n",
    "\n",
    "u = source([batch_size, num_users, num_codewords, info_bit_length]) \n",
    "print(\"New shape of u: \", u.shape)\n",
    "\n",
    "# We can re-use the same encoder as before\n",
    "c = encoder_crc(u)\n",
    "print(\"New shape of c: \", c.shape)\n",
    "print(\"Processed bits: \", np.size(c.numpy()))"
   ]
  },
  {
   "cell_type": "markdown",
   "metadata": {},
   "source": [
    "Often a good visualization of results helps to get new research ideas.\n",
    "Thus, Sionna has built-in plotting functions.\n",
    "\n",
    "Let's have look at a 16-QAM constellation."
   ]
  },
  {
   "cell_type": "code",
   "execution_count": 9,
   "metadata": {},
   "outputs": [
    {
     "data": {
      "image/png": "[encoded data removed]",
      "text/plain": [
       "<Figure size 700x700 with 1 Axes>"
      ]
     },
     "metadata": {},
     "output_type": "display_data"
    }
   ],
   "source": [
    "constellation = sionna.mapping.Constellation(\"qam\", num_bits_per_symbol=4)\n",
    "constellation.show();"
   ]
  },
  {
   "cell_type": "markdown",
   "metadata": {},
   "source": [
    "### First Link-level Simulation\n",
    "\n",
    "We can already build powerful code with a few simple commands.\n",
    "\n",
    "As mentioned earlier, Sionna aims at hiding system complexity into Keras layers.\n",
    "However, we still want to provide as much flexibility as possible.\n",
    "Thus, most layers have several choices of init parameters, but often the default choice is a good start.\n",
    "\n",
    "**Tip**: the [API documentation](https://nvlabs.github.io/sionna/api/sionna.html) provides many helpful references and implementation details."
   ]
  },
  {
   "cell_type": "markdown",
   "metadata": {},
   "source": [
    "- 关于`LDPC`的一篇博客：[LDPC码（一种前向纠错码）：基础 & 译码算法](https://zhuanlan.zhihu.com/p/514670102)"
   ]
  },
  {
   "cell_type": "code",
   "execution_count": 10,
   "metadata": {},
   "outputs": [],
   "source": [
    "# system parameters\n",
    "n_ldpc = 500 # LDPC codeword length \n",
    "k_ldpc = 250 # number of info bits per LDPC codeword\n",
    "coderate = k_ldpc / n_ldpc\n",
    "num_bits_per_symbol = 4 # number of bits mapped to one symbol (cf. QAM)"
   ]
  },
  {
   "cell_type": "markdown",
   "metadata": {},
   "source": [
    "Often, several different algorithms are implemented, e.g., the demapper supports  *\"true app\"* demapping, but also *\"max-log\"* demapping.\n",
    "\n",
    "The check-node (CN) update function of the LDPC BP decoder also supports multiple algorithms."
   ]
  },
  {
   "cell_type": "code",
   "execution_count": 11,
   "metadata": {},
   "outputs": [],
   "source": [
    "demapping_method = \"app\" # try \"max-log\"\n",
    "ldpc_cn_type = \"boxplus\" # try also \"minsum\""
   ]
  },
  {
   "cell_type": "markdown",
   "metadata": {},
   "source": [
    "Let us initialize all required components for the given system parameters."
   ]
  },
  {
   "cell_type": "markdown",
   "metadata": {},
   "source": [
    "这段代码中涉及了通信系统中常见的一些组件和操作，下面详细解释一下每个部分的作用：\n",
    "\n",
    "1. `binary_source = sionna.utils.BinarySource()`：创建了一个二进制源，用于生成随机的二进制比特序列，作为通信系统的输入数据。\n",
    "\n",
    "2. `encoder = sionna.fec.ldpc.encoding.LDPC5GEncoder(k_ldpc, n_ldpc)`：创建了一个 LDPC 编码器，这里使用了 LDPC5GEncoder 类来进行 LDPC 编码。`k_ldpc` 表示每个 LDPC 码字中的信息比特数量，`n_ldpc` 表示 LDPC 码字的长度。\n",
    "\n",
    "3. `constellation = sionna.mapping.Constellation(\"qam\", num_bits_per_symbol)`：创建了一个调制方式为 QAM（Quadrature Amplitude Modulation，正交振幅调制）的星座图。`num_bits_per_symbol` 表示每个符号中的比特数量，用于确定 QAM 星座图中每个符号可以表示的状态数量。\n",
    "\n",
    "4. `mapper = sionna.mapping.Mapper(constellation=constellation)`：创建了一个映射器，用于将输入比特序列映射到 QAM 星座图中的符号。\n",
    "\n",
    "5. `channel = sionna.channel.AWGN()`：创建了一个加性白噪声（AWGN）信道模型，用于模拟信号传输过程中的噪声影响。\n",
    "\n",
    "6. `demapper = sionna.mapping.Demapper(demapping_method, constellation=constellation)`：创建了一个解映射器，用于将接收到的符号映射回比特序列。`demapping_method` 参数指定了解调方法，这里根据之前的设定选择了 APP（Approximate Posterior Probability，近似后验概率）译码方法。\n",
    "\n",
    "7. `decoder = sionna.fec.ldpc.decoding.LDPC5GDecoder(encoder, hard_out=True, cn_type=ldpc_cn_type, num_iter=20)`：创建了一个 LDPC 译码器，使用 LDPC5GDecoder 类。`encoder` 参数指定了编码器，`hard_out=True` 表示译码输出为硬判决结果，`cn_type=ldpc_cn_type` 指定了校验节点计算方法（这里根据之前的设定选择了 Box-Plus 算法），`num_iter=20` 表示进行译码的最大迭代次数。\n",
    "\n",
    "综合起来，这段代码构建了一个基于 LDPC 编码的通信系统，包括了数据源生成、LDPC 编码、星座图映射、信道模拟、解映射、LDPC 译码等一系列组件，用于模拟和实现 LDPC 码字的传输和译码过程。"
   ]
  },
  {
   "cell_type": "code",
   "execution_count": 12,
   "metadata": {},
   "outputs": [],
   "source": [
    "binary_source = sionna.utils.BinarySource()\n",
    "encoder = sionna.fec.ldpc.encoding.LDPC5GEncoder(k_ldpc, n_ldpc)\n",
    "constellation = sionna.mapping.Constellation(\"qam\", num_bits_per_symbol)\n",
    "mapper = sionna.mapping.Mapper(constellation=constellation)\n",
    "channel = sionna.channel.AWGN()\n",
    "demapper = sionna.mapping.Demapper(demapping_method,\n",
    "                                   constellation=constellation)\n",
    "decoder = sionna.fec.ldpc.decoding.LDPC5GDecoder(encoder,\n",
    "                                                 hard_out=True, cn_type=ldpc_cn_type,\n",
    "                                                 num_iter=20)"
   ]
  },
  {
   "cell_type": "markdown",
   "metadata": {},
   "source": [
    "We can now run the code in *eager mode*. This allows us to modify the structure at any time - you can try a different `batch_size` or a different SNR `ebno_db`."
   ]
  },
  {
   "cell_type": "markdown",
   "metadata": {},
   "source": [
    "这段代码实现了一个 LDPC 码字的通信系统仿真过程，并计算了误比特率（BER）以评估系统的性能。下面对代码中的各部分进行解释：\n",
    "\n",
    "1. `batch_size = 1000`：设置了每批次的数据量，即每次传输的 LDPC 码字数量。\n",
    "\n",
    "2. `ebno_db = 4`：设置了信噪比（Eb/N0，信号能量与噪声功率比）为 4 dB，用于模拟信道的信噪比情况。\n",
    "\n",
    "3. `b = binary_source([batch_size, k_ldpc])`：生成了一个随机比特序列批次，大小为 `[batch_size, k_ldpc]`，用作 LDPC 码字的输入。\n",
    "\n",
    "4. `c = encoder(b)`：对输入比特序列进行 LDPC 编码，生成 LDPC 码字序列 `c`。\n",
    "\n",
    "5. `x = mapper(c)`：将 LDPC 码字映射到星座图中的符号序列 `x`，这里使用了之前创建的映射器 `mapper`。\n",
    "\n",
    "6. `no = sionna.utils.ebnodb2no(ebno_db, num_bits_per_symbol, coderate)`：根据给定的信噪比参数，计算了 AWGN 信道的噪声功率。\n",
    "\n",
    "7. `y = channel([x, no])`：将映射后的符号序列 `x` 通过加性白噪声（AWGN）信道模拟传输，得到接收端的符号序列 `y`。\n",
    "\n",
    "8. `llr = demapper([y, no])`：对接收到的符号序列 `y` 进行解映射，得到对数似然比（LLR）序列 `llr`，这里使用了之前创建的解映射器 `demapper`。\n",
    "\n",
    "9. `b_hat = decoder(llr)`：利用得到的 LLR 序列进行 LDPC 译码，得到译码后的比特序列 `b_hat`，这里使用了之前创建的 LDPC 译码器 `decoder`。\n",
    "\n",
    "10. 计算误比特率（BER）：\n",
    "   - `c_hat = tf.cast(tf.less(0.0, llr), tf.float32)`：将 LLR 序列进行硬判决，得到解调器在译码前的硬判决比特序列 `c_hat`。\n",
    "   - `ber_uncoded = sionna.utils.metrics.compute_ber(c, c_hat)`：计算未经编码的比特序列与硬判决比特序列之间的误比特率，用于评估解调器的性能。\n",
    "   - `ber_coded = sionna.utils.metrics.compute_ber(b, b_hat)`：计算经过编码和译码后的比特序列与译码后的比特序列之间的误比特率，用于评估整个系统的性能。\n",
    "\n",
    "11. 输出结果：\n",
    "   - 打印了编码、映射、传输、译码过程中比特序列的形状变化。\n",
    "   - 输出了未经编码的比特序列的误比特率和经过编码和译码后的比特序列的误比特率，以及仿真中总共模拟的比特数量。\n",
    "\n",
    "通过这段代码，可以进行 LDPC 码字的通信系统仿真，并评估系统在不同信噪比下的误比特率性能，从而优化通信系统的设计和参数配置。"
   ]
  },
  {
   "cell_type": "code",
   "execution_count": 13,
   "metadata": {},
   "outputs": [
    {
     "name": "stdout",
     "output_type": "stream",
     "text": [
      "Shape before encoding:  (1000, 250)\n",
      "Shape after encoding:  (1000, 500)\n",
      "Shape after mapping:  (1000, 125)\n",
      "Shape after channel:  (1000, 125)\n",
      "Shape after demapping:  (1000, 500)\n",
      "Shape after decoding:  (1000, 250)\n",
      "BER uncoded = 0.119 at EbNo = 4.0 dB\n",
      "BER after decoding = 0.010 at EbNo = 4.0 dB\n",
      "In total 250000 bits were simulated\n"
     ]
    }
   ],
   "source": [
    "# simulation parameters\n",
    "batch_size = 1000\n",
    "ebno_db = 4\n",
    "\n",
    "# Generate a batch of random bit vectors\n",
    "b = binary_source([batch_size, k_ldpc])\n",
    "\n",
    "# Encode the bits using 5G LDPC code\n",
    "print(\"Shape before encoding: \", b.shape)\n",
    "c = encoder(b)\n",
    "print(\"Shape after encoding: \", c.shape)\n",
    "\n",
    "# Map bits to constellation symbols\n",
    "x = mapper(c)\n",
    "print(\"Shape after mapping: \", x.shape)\n",
    "\n",
    "# Transmit over an AWGN channel at SNR 'ebno_db'\n",
    "no = sionna.utils.ebnodb2no(ebno_db, num_bits_per_symbol, coderate)\n",
    "y = channel([x, no])\n",
    "print(\"Shape after channel: \", y.shape)\n",
    "\n",
    "# Demap to LLRs\n",
    "llr = demapper([y, no])\n",
    "print(\"Shape after demapping: \", llr.shape)\n",
    "\n",
    "# LDPC decoding using 20 BP iterations\n",
    "b_hat = decoder(llr)\n",
    "print(\"Shape after decoding: \", b_hat.shape)\n",
    "\n",
    "# calculate BERs 误比特率\n",
    "c_hat = tf.cast(tf.less(0.0, llr), tf.float32) # hard-decided bits before dec.\n",
    "ber_uncoded = sionna.utils.metrics.compute_ber(c, c_hat)\n",
    "\n",
    "ber_coded = sionna.utils.metrics.compute_ber(b, b_hat)\n",
    "\n",
    "print(\"BER uncoded = {:.3f} at EbNo = {:.1f} dB\".format(ber_uncoded, ebno_db))\n",
    "print(\"BER after decoding = {:.3f} at EbNo = {:.1f} dB\".format(ber_coded, ebno_db))\n",
    "print(\"In total {} bits were simulated\".format(np.size(b.numpy())))"
   ]
  },
  {
   "cell_type": "markdown",
   "metadata": {},
   "source": [
    "Just to summarize: we have simulated the transmission of 250,000 bits including higher-order modulation and channel coding!\n",
    "\n",
    "But we can go even faster with the *TF graph execution*!"
   ]
  },
  {
   "cell_type": "markdown",
   "metadata": {},
   "source": [
    "### Setting up the End-to-end Model\n",
    "- We now define a Keras model that is more convenient for training and Monte-Carlo simulations.\n",
    "    - 设置端到端模型我们现在定义一个更便于训练和蒙特卡罗模拟的Keras模型。\n",
    "- We simulate the transmission over a time-varying multi-path channel (the TDL-A model from 3GPP TR38.901). \n",
    "    - 我们模拟了时变多径信道(3GPP TR38.901的TDL-A模型)上的传输。\n",
    "- For this, OFDM and a conventional bit-interleaved coded modulation (BICM) scheme with higher order modulation is used. \n",
    "    - 为此，采用了OFDM和传统的高阶调制比特交织编码调制(BICM)方案。\n",
    "- The information bits are protected by a 5G-compliant LDPC code.\n",
    "    - 信息位由符合5g标准的LDPC代码保护。\n",
    "- Remark: Due to the large number of parameters, we define them as dictionary.\n",
    "    - 注:由于参数较多，我们将其定义为字典。"
   ]
  },
  {
   "cell_type": "markdown",
   "metadata": {},
   "source": [
    "### e2e_model 概述\n",
    "这个 `e2e_model` 类是一个端到端链路级仿真的示例模型。它实现了一个通信系统的模拟过程，包括了信源编码、调制、信道传输、信道估计、均衡、解调、解码等步骤。\n",
    "\n",
    "1. `__init__` 方法：在初始化时，它设置了模型的各个组件，比如 OFDM 资源网格对象、流管理对象、信道模型、编码器、映射器、均衡器、解调器、解码器等，并且打印了一些关于系统参数的信息。\n",
    "\n",
    "2. `call` 方法：这是模型的核心执行部分。它接受输入参数 `batch_size` 和 `ebno_db`，然后执行以下步骤：\n",
    "   - 生成随机的信息比特向量 `b`。\n",
    "   - 使用 LDPC 编码器对信息比特进行编码，得到编码比特 `c`。\n",
    "   - 对编码比特进行交织，增加对抗混叠 (BICM) 的性能，得到交织后的编码比特 `c_int`。\n",
    "   - 将交织后的编码比特映射到星座图符号，得到符号序列 `s`。\n",
    "   - 将符号序列映射到 OFDM 资源网格上，得到 OFDM 符号序列 `x_rg`。\n",
    "   - 在添加了噪声和多径效应的信道中传输 OFDM 符号序列 `x_rg`，得到接收信号 `y`。\n",
    "   - 使用最小二乘 (LS) 方法进行信道估计，得到信道估计 `h_hat` 和误差方差 `err_var`。\n",
    "   - 使用线性最小均方误差 (LMMSE) 方法进行均衡，得到均衡后的符号序列 `x_hat` 和有效噪声 `no_eff`。\n",
    "   - 对均衡后的符号序列进行解调，得到对数似然比 (LLR) `llr`。\n",
    "   - 对 LLR 进行反交织，得到反交织后的 LLR `llr_int`。\n",
    "   - 使用 LDPC 解码器对反交织后的 LLR 进行解码，得到解码后的信息比特 `b_hat`。\n",
    "   - 最后返回原始的信息比特 `b` 和解码后的信息比特 `b_hat`。\n",
    "\n",
    "这个模型主要用于演示端到端通信链路中各个环节的实现和模拟，可以用于测试不同信道条件下系统的性能表现，比如不同的信噪比 (SNR)、不同的信道模型等。"
   ]
  },
  {
   "cell_type": "markdown",
   "metadata": {},
   "source": [
    "### 关于e2e_model的类属性\n",
    "1. `self.rg = sionna.ofdm.ResourceGrid(...)`:\n",
    "   - 创建了一个 OFDM 资源网格对象，用于模拟 OFDM 系统的资源分配和传输过程。\n",
    "   - 参数包括 OFDM 符号数量、FFT 大小、子载波间隔、循环前缀长度等。\n",
    "\n",
    "2. `self.sm = sionna.mimo.StreamManagement(...)`: \n",
    "   - 创建了一个流管理对象，用于管理接收端和发送端之间的数据流。\n",
    "   - 参数包括接收端与发送端之间的关联、每个发送端的数据流数量等。\n",
    "\n",
    "3. 其他组件的初始化：\n",
    "   - `self.binary_source`：二进制源，用于生成随机比特序列。\n",
    "   - `self.encoder`：LDPC 编码器，将信息比特编码为 LDPC 码字。\n",
    "   - `self.interleaver` 和 `self.deinterleaver`：交织器和反交织器，用于交织和反交织 LDPC 码字。\n",
    "   - `self.mapper` 和 `self.rg_mapper`：映射器和 OFDM 资源网格映射器，用于将数据映射到 QAM 符号和 OFDM 资源网格。\n",
    "   - `self.tdl`：时延多径衰落信道模型，用于模拟多径传输环境。\n",
    "   - `self.channel`：OFDM 信道模拟器，将信号通过时延多径信道并添加 AWGN 噪声。\n",
    "   - `self.ls_est`：最小二乘（LS）信道估计器，用于估计信道响应。\n",
    "   - `self.lmmse_equ`：线性最小均方误差（LMMSE）均衡器，用于对接收信号进行均衡处理。\n",
    "   - `self.demapper` 和 `self.decoder`：解映射器和 LDPC 解码器，用于从接收信号中解调和解码数据。\n",
    "\n",
    "通过这些初始化，模型准备好了进行端到端的链路级仿真，包括生成随机比特序列、编码、映射、发送、信道传输、接收、信道估计、均衡、解调和解码等过程。"
   ]
  },
  {
   "cell_type": "code",
   "execution_count": 14,
   "metadata": {},
   "outputs": [],
   "source": [
    "class e2e_model(tf.keras.Model): # inherits from keras.model\n",
    "    \"\"\"Example model for end-to-end link-level simulations.(端到端链路级仿真的示例模型)\n",
    "\n",
    "\n",
    "    Parameters\n",
    "    ----------\n",
    "    params: dict\n",
    "        A dictionary defining the system parameters.\n",
    "    \n",
    "    Input\n",
    "    -----\n",
    "    batch_size: int or tf.int\n",
    "        The batch_sizeused for the simulation.\n",
    "        \n",
    "    ebno_db: float or tf.float\n",
    "        A float defining the simulation SNR.\n",
    "\n",
    "    Output\n",
    "    ------\n",
    "    (b, b_hat): \n",
    "        Tuple:\n",
    "    \n",
    "    b: tf.float32\n",
    "        A tensor of shape `[batch_size, k]` containing the transmitted\n",
    "        information bits.\n",
    "\n",
    "    b_hat: tf.float32\n",
    "        A tensor of shape `[batch_size, k]` containing the receiver's\n",
    "        estimate of the transmitted information bits.\n",
    "    \"\"\"\n",
    "    def __init__(self,\n",
    "                params):\n",
    "        super().__init__()       \n",
    "\n",
    "        \n",
    "        # Define an OFDM Resource Grid Object\n",
    "        self.rg = sionna.ofdm.ResourceGrid(\n",
    "                            num_ofdm_symbols=params[\"num_ofdm_symbols\"],\n",
    "                            fft_size=params[\"fft_size\"],\n",
    "                            subcarrier_spacing=params[\"subcarrier_spacing\"],\n",
    "                            num_tx=1,\n",
    "                            num_streams_per_tx=1,\n",
    "                            cyclic_prefix_length=params[\"cyclic_prefix_length\"],\n",
    "                            pilot_pattern=\"kronecker\",\n",
    "                            pilot_ofdm_symbol_indices=params[\"pilot_ofdm_symbol_indices\"])\n",
    "              \n",
    "        # Create a Stream Management object        \n",
    "        self.sm = sionna.mimo.StreamManagement(rx_tx_association=np.array([[1]]),\n",
    "                                               num_streams_per_tx=1)\n",
    "        \n",
    "        self.coderate = params[\"coderate\"]\n",
    "        self.num_bits_per_symbol = params[\"num_bits_per_symbol\"]\n",
    "        self.n = int(self.rg.num_data_symbols*self.num_bits_per_symbol) \n",
    "        self.k = int(self.n*coderate)         \n",
    "\n",
    "        # Init layers\n",
    "        self.binary_source = sionna.utils.BinarySource()\n",
    "        self.encoder = sionna.fec.ldpc.encoding.LDPC5GEncoder(self.k, self.n)\n",
    "        self.interleaver = sionna.fec.interleaving.RowColumnInterleaver(\n",
    "                                        row_depth=self.num_bits_per_symbol)\n",
    "        self.deinterleaver = sionna.fec.interleaving.Deinterleaver(self.interleaver)\n",
    "        self.mapper = sionna.mapping.Mapper(\"qam\", self.num_bits_per_symbol)\n",
    "        self.rg_mapper = sionna.ofdm.ResourceGridMapper(self.rg)\n",
    "        self.tdl = sionna.channel.tr38901.TDL(model=\"A\",\n",
    "                           delay_spread=params[\"delay_spread\"],\n",
    "                           carrier_frequency=params[\"carrier_frequency\"],\n",
    "                           min_speed=params[\"min_speed\"],\n",
    "                           max_speed=params[\"max_speed\"])\n",
    "        \n",
    "        self.channel = sionna.channel.OFDMChannel(self.tdl, self.rg, add_awgn=True, normalize_channel=True)\n",
    "        self.ls_est = sionna.ofdm.LSChannelEstimator(self.rg, interpolation_type=\"nn\")\n",
    "        self.lmmse_equ = sionna.ofdm.LMMSEEqualizer(self.rg, self.sm)\n",
    "        self.demapper = sionna.mapping.Demapper(params[\"demapping_method\"],\n",
    "                                                \"qam\", self.num_bits_per_symbol)\n",
    "        self.decoder = sionna.fec.ldpc.decoding.LDPC5GDecoder(self.encoder,\n",
    "                                                    hard_out=True,\n",
    "                                                    cn_type=params[\"cn_type\"],\n",
    "                                                    num_iter=params[\"bp_iter\"])\n",
    "\n",
    "        print(\"Number of pilots: {}\".format(self.rg.num_pilot_symbols))        \n",
    "        print(\"Number of data symbols: {}\".format(self.rg.num_data_symbols))\n",
    "        print(\"Number of resource elements: {}\".format(\n",
    "                                    self.rg.num_resource_elements))\n",
    "\n",
    "        print(\"Pilot overhead: {:.2f}%\".format(\n",
    "                                    self.rg.num_pilot_symbols /\n",
    "                                    self.rg.num_resource_elements*100))\n",
    "\n",
    "        print(\"Cyclic prefix overhead: {:.2f}%\".format(\n",
    "                                    params[\"cyclic_prefix_length\"] /\n",
    "                                    (params[\"cyclic_prefix_length\"]\n",
    "                                    +params[\"fft_size\"])*100))\n",
    "\n",
    "        print(\"Each frame contains {} information bits\".format(self.k))\n",
    "   \n",
    "    def call(self, batch_size, ebno_db):\n",
    "        \n",
    "        # Generate a batch of random bit vectors\n",
    "        # We need two dummy dimension representing the number of\n",
    "        # transmitters and streams per transmitter, respectively.\n",
    "        b = self.binary_source([batch_size, 1, 1, self.k])\n",
    "\n",
    "        # Encode the bits using the all-zero dummy encoder\n",
    "        c = self.encoder(b)\n",
    "\n",
    "        # Interleave the bits before mapping (BICM)\n",
    "        c_int = self.interleaver(c)\n",
    "        \n",
    "        # Map bits to constellation symbols\n",
    "        s = self.mapper(c_int)\n",
    "\n",
    "        # Map symbols onto OFDM ressource grid\n",
    "        x_rg = self.rg_mapper(s)\n",
    "\n",
    "        # Transmit over noisy multi-path channel \n",
    "        no = sionna.utils.ebnodb2no(ebno_db, self.num_bits_per_symbol, self.coderate, self.rg)\n",
    "        y = self.channel([x_rg, no]) \n",
    "        \n",
    "        # LS Channel estimation with nearest pilot interpolation\n",
    "        h_hat, err_var = self.ls_est ([y, no])\n",
    "\n",
    "        # LMMSE Equalization\n",
    "        x_hat, no_eff = self.lmmse_equ([y, h_hat, err_var, no])\n",
    "\n",
    "        # Demap to LLRs\n",
    "        llr = self.demapper([x_hat, no_eff])\n",
    "\n",
    "        # Deinterleave before decoding\n",
    "        llr_int = self.deinterleaver(llr)\n",
    "\n",
    "        # Decode\n",
    "        b_hat = self.decoder(llr_int) \n",
    "        \n",
    "        # number of simulated bits\n",
    "        nb_bits = batch_size*self.k\n",
    "        \n",
    "        # transmitted bits and the receiver's estimate after decoding\n",
    "        return b, b_hat"
   ]
  },
  {
   "cell_type": "markdown",
   "metadata": {},
   "source": [
    "Let us define the system parameters for our simulation as dictionary:"
   ]
  },
  {
   "cell_type": "code",
   "execution_count": 15,
   "metadata": {},
   "outputs": [],
   "source": [
    "sys_params = {\n",
    "    # Channel\n",
    "    \"carrier_frequency\" : 3.5e9,\n",
    "    \"delay_spread\" : 100e-9,\n",
    "    \"min_speed\" : 3,\n",
    "    \"max_speed\" : 3,\n",
    "    \"tdl_model\" : \"A\",\n",
    "\n",
    "    # OFDM\n",
    "    \"fft_size\" : 256,\n",
    "    \"subcarrier_spacing\" : 30e3,\n",
    "    \"num_ofdm_symbols\" : 14,\n",
    "    \"cyclic_prefix_length\" : 16,\n",
    "    \"pilot_ofdm_symbol_indices\" : [2, 11],\n",
    "\n",
    "    # Code & Modulation\n",
    "    \"coderate\" : 0.5,\n",
    "    \"num_bits_per_symbol\" : 4,\n",
    "    \"demapping_method\" : \"app\",\n",
    "    \"cn_type\" : \"boxplus\",\n",
    "    \"bp_iter\" : 20\n",
    "}"
   ]
  },
  {
   "cell_type": "markdown",
   "metadata": {},
   "source": [
    "...and initialize the model:"
   ]
  },
  {
   "cell_type": "code",
   "execution_count": 16,
   "metadata": {},
   "outputs": [
    {
     "name": "stdout",
     "output_type": "stream",
     "text": [
      "Number of pilots: 512\n",
      "Number of data symbols: 3072\n",
      "Number of resource elements: 3584\n",
      "Pilot overhead: 14.29%\n",
      "Cyclic prefix overhead: 5.88%\n",
      "Each frame contains 6144 information bits\n"
     ]
    }
   ],
   "source": [
    "model = e2e_model(sys_params)"
   ]
  },
  {
   "cell_type": "markdown",
   "metadata": {},
   "source": [
    "As before, we can simply *call* the model to simulate the BER for the given simulation parameters."
   ]
  },
  {
   "cell_type": "markdown",
   "metadata": {},
   "source": [
    "`BER` (Bit Error Rate) 指的是比特错误率，是在数字通信系统中用于衡量传输过程中出现的比特错误的指标。它通常用来评估通信系统的性能，特别是在有噪声干扰的信道中。\n",
    "\n",
    "在一个二进制通信系统中，如果发送了比特 0，但接收端却误判成了比特 1，或者反之，就会产生比特错误。BER 就是衡量这种错误比特在总发送比特中所占的比例。\n"
   ]
  },
  {
   "cell_type": "code",
   "execution_count": 17,
   "metadata": {},
   "outputs": [
    {
     "name": "stdout",
     "output_type": "stream",
     "text": [
      "BER: 0.002968 at Eb/No of 10 dB and 1228800 simulated bits\n"
     ]
    }
   ],
   "source": [
    "#simulation parameters\n",
    "ebno_db = 10\n",
    "batch_size = 200\n",
    "\n",
    "# and call the model\n",
    "b, b_hat = model(batch_size, ebno_db)\n",
    "\n",
    "ber = sionna.utils.metrics.compute_ber(b, b_hat)\n",
    "nb_bits = np.size(b.numpy())\n",
    "\n",
    "print(\"BER: {:.4} at Eb/No of {} dB and {} simulated bits\".format(ber.numpy(), ebno_db, nb_bits))"
   ]
  },
  {
   "cell_type": "markdown",
   "metadata": {},
   "source": [
    "### Run some Throughput Tests (Graph Mode)\n",
    "\n",
    "Sionna is not just an easy-to-use library, but also incredibly fast.\n",
    "Let us measure the throughput of the model defined above.\n",
    "\n",
    "We compare *eager* and *graph* execution modes (see [Tensorflow Doc](https://www.tensorflow.org/guide/intro_to_graphs) for details), as well\n",
    "as *eager with XLA* (see https://www.tensorflow.org/xla#enable_xla_for_tensorflow_models).\n",
    "Note that we need to activate the [sionna.config.xla_compat](https://nvlabs.github.io/sionna/api/config.html#sionna.Config.xla_compat) feature for XLA to work.\n",
    "\n",
    "\n",
    "**Tip**: change the `batch_size` to see how the batch parallelism enhances the throughput.\n",
    "Depending on your machine, the `batch_size` may be too large."
   ]
  },
  {
   "cell_type": "code",
   "execution_count": 18,
   "metadata": {},
   "outputs": [
    {
     "name": "stdout",
     "output_type": "stream",
     "text": [
      "Throughput in eager execution: 0.43 Mb/s\n",
      "Throughput in graph execution: 5.01 Mb/s\n",
      "Throughput in graph execution with XLA: 87.48 Mb/s\n"
     ]
    },
    {
     "name": "stderr",
     "output_type": "stream",
     "text": [
      "WARNING: All log messages before absl::InitializeLog() is called are written to STDERR\n",
      "I0000 00:00:1718370738.326376   14950 device_compiler.h:186] Compiled cluster using XLA!  This line is logged at most once for the lifetime of the process.\n"
     ]
    }
   ],
   "source": [
    "import time # this block requires the timeit library\n",
    "\n",
    "batch_size = 200\n",
    "ebno_db = 5 # evalaute SNR point\n",
    "repetitions = 4 # throughput is averaged over multiple runs\n",
    "\n",
    "def get_throughput(batch_size, ebno_db, model, repetitions=1):\n",
    "    \"\"\" Simulate throughput in bit/s per ebno_db point.\n",
    "    \n",
    "    The results are average over `repetition` trials.\n",
    "    \n",
    "    Input\n",
    "    -----\n",
    "    batch_size: int or tf.int32\n",
    "        Batch-size for evaluation.\n",
    "\n",
    "    ebno_db: float or tf.float32\n",
    "        A tensor containing the SNR points be evaluated    \n",
    "    \n",
    "    model:\n",
    "        Function or model that yields the transmitted bits `u` and the\n",
    "        receiver's estimate `u_hat` for a given ``batch_size`` and\n",
    "        ``ebno_db``.\n",
    "        \n",
    "    repetitions: int\n",
    "        An integer defining how many trails of the throughput \n",
    "        simulation are averaged.\n",
    "    \n",
    "    \"\"\"\n",
    "\n",
    "\n",
    "    # call model once to be sure it is compile properly \n",
    "    # otherwise time to build graph is measured as well.\n",
    "    u, u_hat = model(tf.constant(batch_size, tf.int32),    \n",
    "                     tf.constant(ebno_db, tf.float32))\n",
    "\n",
    "    t_start = time.perf_counter()\n",
    "    # average over multiple runs\n",
    "    for _ in range(repetitions):\n",
    "        u, u_hat = model(tf.constant(batch_size, tf.int32),\n",
    "                            tf.constant(ebno_db, tf. float32))\n",
    "    t_stop = time.perf_counter()\n",
    "\n",
    "    # throughput in bit/s\n",
    "    throughput = np.size(u.numpy())*repetitions / (t_stop - t_start)\n",
    "\n",
    "    return throughput\n",
    "\n",
    "# eager mode - just call the model\n",
    "def run_eager(batch_size, ebno_db):\n",
    "    return model(batch_size, ebno_db)\n",
    "    \n",
    "time_eager = get_throughput(batch_size, ebno_db, run_eager, repetitions=4)\n",
    "\n",
    "# the decorator \"@tf.function\" enables the graph mode\n",
    "@tf.function\n",
    "def run_graph(batch_size, ebno_db):\n",
    "    return model(batch_size, ebno_db)\n",
    "\n",
    "time_graph = get_throughput(batch_size, ebno_db, run_graph, repetitions=4)\n",
    "\n",
    "# the decorator \"@tf.function(jit_compile=True)\" enables the graph mode with XLA\n",
    "# we need to activate the sionna.config.xla_compat feature for this to work\n",
    "sionna.config.xla_compat=True\n",
    "@tf.function(jit_compile=True)\n",
    "def run_graph_xla(batch_size, ebno_db):\n",
    "    return model(batch_size, ebno_db)\n",
    "\n",
    "time_graph_xla = get_throughput(batch_size, ebno_db, run_graph_xla, repetitions=4)\n",
    "# we deactivate the sionna.config.xla_compat so that the cell can be run mutiple times\n",
    "sionna.config.xla_compat=False\n",
    "\n",
    "print(f\"Throughput in eager execution: {time_eager/1e6:.2f} Mb/s\")\n",
    "print(f\"Throughput in graph execution: {time_graph/1e6:.2f} Mb/s\")\n",
    "print(f\"Throughput in graph execution with XLA: {time_graph_xla/1e6:.2f} Mb/s\")"
   ]
  },
  {
   "cell_type": "markdown",
   "metadata": {},
   "source": [
    "Obviously, *graph* execution (with XLA) yields much higher throughputs (at least if a fast GPU is available).\n",
    "Thus, for exhaustive training and Monte-Carlo simulations the *graph* mode (with XLA and GPU acceleration) is the preferred choice."
   ]
  },
  {
   "cell_type": "markdown",
   "metadata": {},
   "source": [
    "### Bit-Error Rate (BER) Monte-Carlo Simulations\n",
    "\n",
    "Monte-Carlo simulations are omnipresent in todays communications research and development.\n",
    "Due its performant implementation, Sionna can be directly used to simulate BER at a performance that competes with compiled languages -- but still keeps the flexibility of a script language."
   ]
  },
  {
   "cell_type": "code",
   "execution_count": 19,
   "metadata": {},
   "outputs": [
    {
     "name": "stdout",
     "output_type": "stream",
     "text": [
      "EbNo [dB] |        BER |       BLER |  bit errors |    num bits | block errors |  num blocks | runtime [s] |    status\n",
      "---------------------------------------------------------------------------------------------------------------------------------------\n",
      "      0.0 | 3.4189e-01 | 1.0000e+00 |     1260356 |     3686400 |          600 |         600 |         0.1 |reached target block errors\n",
      "      1.0 | 3.1975e-01 | 1.0000e+00 |     1178716 |     3686400 |          600 |         600 |         0.1 |reached target block errors\n",
      "      2.0 | 2.9769e-01 | 1.0000e+00 |     1097387 |     3686400 |          600 |         600 |         0.1 |reached target block errors\n",
      "      3.0 | 2.7391e-01 | 1.0000e+00 |     1009736 |     3686400 |          600 |         600 |         0.1 |reached target block errors\n",
      "      4.0 | 2.4817e-01 | 1.0000e+00 |      914849 |     3686400 |          600 |         600 |         0.1 |reached target block errors\n",
      "      5.0 | 2.2012e-01 | 1.0000e+00 |      811444 |     3686400 |          600 |         600 |         0.1 |reached target block errors\n",
      "      6.0 | 1.8702e-01 | 1.0000e+00 |      689429 |     3686400 |          600 |         600 |         0.1 |reached target block errors\n",
      "      7.0 | 1.1782e-01 | 9.8833e-01 |      434316 |     3686400 |          593 |         600 |         0.1 |reached target block errors\n",
      "      8.0 | 4.1370e-02 | 4.8333e-01 |      305014 |     7372800 |          580 |        1200 |         0.2 |reached target block errors\n",
      "      9.0 | 1.2153e-02 | 1.4139e-01 |      268797 |    22118400 |          509 |        3600 |         0.5 |reached target block errors\n",
      "     10.0 | 3.2299e-03 | 3.6000e-02 |      277823 |    86016000 |          504 |       14000 |         1.8 |reached target block errors\n",
      "     11.0 | 9.6430e-04 | 1.0204e-02 |      290309 |   301056000 |          500 |       49000 |         6.2 |reached target block errors\n",
      "     12.0 | 2.6845e-04 | 2.8563e-03 |      289293 |  1077657600 |          501 |      175400 |        26.9 |reached target block errors\n",
      "     13.0 | 9.0830e-05 | 9.6500e-04 |      111612 |  1228800000 |          193 |      200000 |        29.1 |reached max iter       \n",
      "     14.0 | 3.3172e-05 | 3.6500e-04 |       40762 |  1228800000 |           73 |      200000 |        22.6 |reached max iter       \n"
     ]
    }
   ],
   "source": [
    "ebno_dbs = np.arange(0, 15, 1.)\n",
    "batch_size = 200 # reduce in case you receive an out-of-memory (OOM) error\n",
    "\n",
    "max_mc_iter = 1000 # max number of Monte-Carlo iterations before going to next SNR point\n",
    "num_target_block_errors = 500 # continue with next SNR point after target number of block errors\n",
    "\n",
    "# we use the built-in ber simulator function from Sionna which uses and early stop after reaching num_target_errors   \n",
    "sionna.config.xla_compat=True\n",
    "ber_mc,_ = sionna.utils.sim_ber(run_graph_xla, # you can also evaluate the model directly\n",
    "                                ebno_dbs,\n",
    "                                batch_size=batch_size, \n",
    "                                num_target_block_errors=num_target_block_errors,\n",
    "                                max_mc_iter=max_mc_iter,\n",
    "                                verbose=True) # print status and summary\n",
    "sionna.config.xla_compat=False"
   ]
  },
  {
   "cell_type": "markdown",
   "metadata": {},
   "source": [
    "Let's look at the results."
   ]
  },
  {
   "cell_type": "code",
   "execution_count": 20,
   "metadata": {},
   "outputs": [
    {
     "data": {
      "image/png": "[encoded data removed]",
      "text/plain": [
       "<Figure size 1600x1000 with 1 Axes>"
      ]
     },
     "metadata": {},
     "output_type": "display_data"
    }
   ],
   "source": [
    "sionna.utils.plotting.plot_ber(ebno_dbs,\n",
    "                               ber_mc,\n",
    "                               legend=\"E2E Model\",\n",
    "                               ylabel=\"Coded BER\");"
   ]
  },
  {
   "cell_type": "markdown",
   "metadata": {},
   "source": [
    "### Conclusion\n",
    "\n",
    "We hope you are excited about Sionna - there is much more to be discovered:\n",
    "\n",
    "- TensorBoard debugging available\n",
    "- Scaling to multi-GPU simulation is simple\n",
    "- See the [available tutorials](https://nvlabs.github.io/sionna/tutorials.html) for more advanced examples.\n",
    "\n",
    "And if something is still missing - the project is [open-source](https://github.com/nvlabs/sionna/):  you can modify, add, and extend any component at any time."
   ]
  }
 ],
 "metadata": {
  "interpreter": {
   "hash": "31f2aee4e71d21fbe5cf8b01ff0e069b9275f58929596ceb00d14d90e3e16cd6"
  },
  "kernelspec": {
   "display_name": "Python 3 (ipykernel)",
   "language": "python",
   "name": "python3"
  },
  "language_info": {
   "codemirror_mode": {
    "name": "ipython",
    "version": 3
   },
   "file_extension": ".py",
   "mimetype": "text/x-python",
   "name": "python",
   "nbconvert_exporter": "python",
   "pygments_lexer": "ipython3",
   "version": "3.11.5"
  }
 },
 "nbformat": 4,
 "nbformat_minor": 4
}
