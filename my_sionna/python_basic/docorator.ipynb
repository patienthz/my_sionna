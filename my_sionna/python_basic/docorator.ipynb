{
 "cells": [
  {
   "cell_type": "markdown",
   "metadata": {},
   "source": [
    "当我们想要对一个类的属性进行自定义的读取或设置时，通常会使用装饰器 `@property`。以下是一个示例：\n",
    "\n",
    "```python\n",
    "class Circle:\n",
    "    def __init__(self, radius):\n",
    "        self._radius = radius\n",
    "\n",
    "    @property\n",
    "    def radius(self):\n",
    "        \"\"\"Get the radius of the circle.\"\"\"\n",
    "        return self._radius\n",
    "\n",
    "    @radius.setter\n",
    "    def radius(self, value):\n",
    "        \"\"\"Set the radius of the circle.\"\"\"\n",
    "        if value <= 0:\n",
    "            raise ValueError(\"Radius must be positive\")\n",
    "        self._radius = value\n",
    "\n",
    "    @property\n",
    "    def area(self):\n",
    "        \"\"\"Calculate the area of the circle.\"\"\"\n",
    "        return 3.14159 * self._radius ** 2\n",
    "\n",
    "# 创建一个圆对象\n",
    "my_circle = Circle(5)\n",
    "\n",
    "# 访问半径属性\n",
    "print(\"Radius:\", my_circle.radius)\n",
    "\n",
    "# 访问面积属性\n",
    "print(\"Area:\", my_circle.area)\n",
    "\n",
    "# 修改半径属性\n",
    "my_circle.radius = 10\n",
    "print(\"New radius:\", my_circle.radius)\n",
    "print(\"New area:\", my_circle.area)\n",
    "```\n",
    "\n",
    "在上面的示例中，我们定义了一个 `Circle` 类，其中 `radius` 是一个属性，通过 `@property` 装饰器来定义其 getter 方法。同时，我们还定义了一个 `radius` 的 setter 方法，以及一个 `area` 的 getter 方法。这样，我们可以像访问属性一样访问 `radius` 和 `area`，并且可以通过设置 `radius` 属性来动态更新圆的半径，并相应地重新计算面积。"
   ]
  },
  {
   "cell_type": "code",
   "execution_count": 1,
   "metadata": {},
   "outputs": [
    {
     "name": "stdout",
     "output_type": "stream",
     "text": [
      "Radius: 5\n",
      "Area: 78.53975\n",
      "New radius: 10\n",
      "New area: 314.159\n"
     ]
    }
   ],
   "source": [
    "class Circle:\n",
    "    def __init__(self, radius):\n",
    "        self._radius = radius\n",
    "\n",
    "    @property\n",
    "    def radius(self):\n",
    "        \"\"\"Get the radius of the circle.\"\"\"\n",
    "        return self._radius\n",
    "\n",
    "    @radius.setter\n",
    "    def radius(self, value):\n",
    "        \"\"\"Set the radius of the circle.\"\"\"\n",
    "        if value <= 0:\n",
    "            raise ValueError(\"Radius must be positive\")\n",
    "        self._radius = value\n",
    "\n",
    "    @property\n",
    "    def area(self):\n",
    "        \"\"\"Calculate the area of the circle.\"\"\"\n",
    "        return 3.14159 * self._radius ** 2\n",
    "\n",
    "# 创建一个圆对象\n",
    "my_circle = Circle(5)\n",
    "\n",
    "# 访问半径属性\n",
    "print(\"Radius:\", my_circle.radius)\n",
    "\n",
    "# 访问面积属性\n",
    "print(\"Area:\", my_circle.area)\n",
    "\n",
    "# 修改半径属性\n",
    "my_circle.radius = 10\n",
    "print(\"New radius:\", my_circle.radius)\n",
    "print(\"New area:\", my_circle.area)\n"
   ]
  }
 ],
 "metadata": {
  "kernelspec": {
   "display_name": "tf",
   "language": "python",
   "name": "python3"
  },
  "language_info": {
   "codemirror_mode": {
    "name": "ipython",
    "version": 3
   },
   "file_extension": ".py",
   "mimetype": "text/x-python",
   "name": "python",
   "nbconvert_exporter": "python",
   "pygments_lexer": "ipython3",
   "version": "3.10.0"
  }
 },
 "nbformat": 4,
 "nbformat_minor": 2
}
