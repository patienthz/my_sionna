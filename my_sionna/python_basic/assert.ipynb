{
 "cells": [
  {
   "cell_type": "markdown",
   "metadata": {},
   "source": [
    "`assert`语句用于在代码中进行断言，即在特定条件下检查某个表达式是否为真，如果表达式为假，则会触发异常。它的基本语法如下：\n",
    "\n",
    "```python\n",
    "assert expression, error_message\n",
    "```\n",
    "\n",
    "其中：\n",
    "- `expression` 是需要检查的表达式，如果表达式为假（False），则会触发异常；\n",
    "- `error_message` 是可选的错误消息，用于在断言失败时显示。\n",
    "\n",
    "下面是一个简单的示例：\n",
    "\n",
    "```python\n",
    "x = 10\n",
    "assert x > 0, \"x must be positive\"\n",
    "print(\"x is positive\")\n",
    "```\n",
    "\n",
    "在这个例子中，如果 `x` 的值小于等于 0，断言就会失败，并且会显示错误消息 `\"x must be positive\"`，程序会停止执行。\n",
    "\n",
    "另一个示例是对函数参数进行类型检查：\n",
    "\n",
    "```python\n",
    "def square(x):\n",
    "    assert isinstance(x, (int, float)), \"x must be an integer or float\"\n",
    "    return x ** 2\n",
    "\n",
    "result = square(5)\n",
    "print(result)  # 输出 25\n",
    "\n",
    "result = square(\"hello\")\n",
    "# 断言失败，会显示错误消息：\"x must be an integer or float\"\n",
    "```\n",
    "\n",
    "在这个例子中，`assert`语句用于确保函数 `square` 的参数 `x` 是整数或浮点数类型，如果不是，就会触发断言失败的异常。"
   ]
  }
 ],
 "metadata": {
  "kernelspec": {
   "display_name": "mysionna",
   "language": "python",
   "name": "python3"
  },
  "language_info": {
   "name": "python",
   "version": "3.11.5"
  }
 },
 "nbformat": 4,
 "nbformat_minor": 2
}
