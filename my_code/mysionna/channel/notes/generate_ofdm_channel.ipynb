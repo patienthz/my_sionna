{
 "cells": [
  {
   "cell_type": "markdown",
   "metadata": {},
   "source": [
    "# GenerateOFDMChannel"
   ]
  },
  {
   "cell_type": "markdown",
   "metadata": {
    "vscode": {
     "languageId": "latex"
    }
   },
   "source": [
    "## Generate channel frequency responses\n",
    "\n",
    "信道脉冲响应在一个OFDM符号的持续时间内是恒定的\n",
    "\n",
    "给定一个信道脉冲响应\n",
    "$$ \n",
    "(a_{m}(t), \\tau_{m}), 0 \\leq m \\leq M-1 \n",
    "$$\n",
    "\n",
    "，由``channel_model``生成，\n",
    "$s^{th}$ OFDM符号的信道频率响应和\n",
    "$n^{th}$子载波的计算如下:\n",
    "\n",
    "$$\n",
    "    \\widehat{h}_{s, n} = \\sum_{m=0}^{M-1} a_{m}(s) e^{-j2\\pi n \\Delta_f \\tau_{m}}\n",
    "$$\n",
    "\n",
    "其中$\\Delta_f$是子载波间距，$s$用作表示信道脉冲响应可以从一个OFDM符号变为另一个的时间\n",
    "步长，接下来，在移动的情况下，信道脉冲响应可以从一个OFDM符号变化到下一个OFDM符号，即使它在一个OFDM符号的持续时间内是静态的。"
   ]
  }
 ],
 "metadata": {
  "kernelspec": {
   "display_name": "tf",
   "language": "python",
   "name": "python3"
  },
  "language_info": {
   "codemirror_mode": {
    "name": "ipython",
    "version": 3
   },
   "file_extension": ".py",
   "mimetype": "text/x-python",
   "name": "python",
   "nbconvert_exporter": "python",
   "pygments_lexer": "ipython3",
   "version": "3.11.5"
  }
 },
 "nbformat": 4,
 "nbformat_minor": 2
}
