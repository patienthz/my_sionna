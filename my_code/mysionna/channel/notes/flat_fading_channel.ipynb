{
 "cells": [
  {
   "cell_type": "code",
   "execution_count": 1,
   "metadata": {},
   "outputs": [
    {
     "name": "stderr",
     "output_type": "stream",
     "text": [
      "2024-07-12 21:14:52.642207: E external/local_xla/xla/stream_executor/cuda/cuda_dnn.cc:9261] Unable to register cuDNN factory: Attempting to register factory for plugin cuDNN when one has already been registered\n",
      "2024-07-12 21:14:52.642243: E external/local_xla/xla/stream_executor/cuda/cuda_fft.cc:607] Unable to register cuFFT factory: Attempting to register factory for plugin cuFFT when one has already been registered\n",
      "2024-07-12 21:14:52.643906: E external/local_xla/xla/stream_executor/cuda/cuda_blas.cc:1515] Unable to register cuBLAS factory: Attempting to register factory for plugin cuBLAS when one has already been registered\n",
      "2024-07-12 21:14:52.654129: I tensorflow/core/platform/cpu_feature_guard.cc:182] This TensorFlow binary is optimized to use available CPU instructions in performance-critical operations.\n",
      "To enable the following instructions: AVX2 FMA, in other operations, rebuild TensorFlow with the appropriate compiler flags.\n",
      "2024-07-12 21:14:53.820999: W tensorflow/compiler/tf2tensorrt/utils/py_utils.cc:38] TF-TRT Warning: Could not find TensorRT\n"
     ]
    },
    {
     "ename": "",
     "evalue": "",
     "output_type": "error",
     "traceback": [
      "\u001b[1;31mThe Kernel crashed while executing code in the current cell or a previous cell. \n",
      "\u001b[1;31mPlease review the code in the cell(s) to identify a possible cause of the failure. \n",
      "\u001b[1;31mClick <a href='https://aka.ms/vscodeJupyterKernelCrash'>here</a> for more info. \n",
      "\u001b[1;31mView Jupyter <a href='command:jupyter.viewOutput'>log</a> for further details."
     ]
    }
   ],
   "source": [
    "\"\"\"Classes for the simulation of flat-fading channels\"\"\"\n",
    "\n",
    "import tensorflow as tf\n",
    "from sionna.channel import AWGN\n",
    "from sionna.utils import complex_normal\n",
    "class ApplyFlatFadingChannel(tf.keras.layers.Layer):\n",
    "    # pylint: disable=line-too-long\n",
    "    r\"\"\"ApplyFlatFadingChannel(add_awgn=True, dtype=tf.complex64, **kwargs)\n",
    "\n",
    "    Applies given channel matrices to a vector input and adds AWGN.\n",
    "\n",
    "    This class applies a given tensor of flat-fading channel matrices\n",
    "    to an input tensor. AWGN noise can be optionally added.\n",
    "    Mathematically, for channel matrices\n",
    "    :math:`\\mathbf{H}\\in\\mathbb{C}^{M\\times K}`\n",
    "    and input :math:`\\mathbf{x}\\in\\mathbb{C}^{K}`, the output is\n",
    "\n",
    "    .. math::\n",
    "\n",
    "        \\mathbf{y} = \\mathbf{H}\\mathbf{x} + \\mathbf{n}\n",
    "\n",
    "    where :math:`\\mathbf{n}\\in\\mathbb{C}^{M}\\sim\\mathcal{CN}(0, N_o\\mathbf{I})`\n",
    "    is an AWGN vector that is optionally added.\n",
    "\n",
    "\n",
    "    Parameters\n",
    "    ----------\n",
    "    add_awgn: bool\n",
    "        Indicates if AWGN noise should be added to the output.\n",
    "        Defaults to `True`.\n",
    "\n",
    "    dtype : tf.complex64, tf.complex128\n",
    "        The dtype of the output. Defaults to `tf.complex64`.\n",
    "\n",
    "    Input\n",
    "    -----\n",
    "    (x, h, no) :\n",
    "        Tuple:\n",
    "\n",
    "    x : [batch_size, num_tx_ant], tf.complex\n",
    "        Tensor of transmit vectors.\n",
    "\n",
    "    h : [batch_size, num_rx_ant, num_tx_ant], tf.complex\n",
    "        Tensor of channel realizations. Will be broadcast to the\n",
    "        dimensions of ``x`` if needed.\n",
    "\n",
    "    no : Scalar or Tensor, tf.float\n",
    "        The noise power ``no`` is per complex dimension.\n",
    "        Only required if ``add_awgn==True``.\n",
    "        Will be broadcast to the shape of ``y``.\n",
    "        For more details, see :class:`~sionna.channel.AWGN`.\n",
    "\n",
    "    Output\n",
    "    ------\n",
    "    y : [batch_size, num_rx_ant, num_tx_ant], ``dtype``\n",
    "        Channel output.\n",
    "    \"\"\"\n",
    "    def __init__(self, add_awgn=True, dtype=tf.complex64, **kwargs):\n",
    "        super().__init__(trainable=False, dtype=dtype, **kwargs)\n",
    "        self._add_awgn = add_awgn\n",
    "\n",
    "    def build(self, input_shape): #pylint: disable=unused-argument\n",
    "        if self._add_awgn:\n",
    "            self._awgn = AWGN(dtype=self.dtype)\n",
    "\n",
    "    def call(self, inputs):\n",
    "        if self._add_awgn:\n",
    "            x, h, no = inputs\n",
    "        else:\n",
    "            x, h = inputs\n",
    "\n",
    "        x = tf.expand_dims(x, axis=-1)\n",
    "        y = tf.matmul(h, x)\n",
    "        y = tf.squeeze(y, axis=-1)\n",
    "\n",
    "        if self._add_awgn:\n",
    "            y = self._awgn((y, no))\n",
    "\n",
    "        return y"
   ]
  }
 ],
 "metadata": {
  "kernelspec": {
   "display_name": "mysionna",
   "language": "python",
   "name": "python3"
  },
  "language_info": {
   "codemirror_mode": {
    "name": "ipython",
    "version": 3
   },
   "file_extension": ".py",
   "mimetype": "text/x-python",
   "name": "python",
   "nbconvert_exporter": "python",
   "pygments_lexer": "ipython3",
   "version": "3.11.5"
  }
 },
 "nbformat": 4,
 "nbformat_minor": 2
}
