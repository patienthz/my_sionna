{
 "cells": [
  {
   "cell_type": "code",
   "execution_count": 6,
   "metadata": {},
   "outputs": [
    {
     "name": "stdout",
     "output_type": "stream",
     "text": [
      "Number of GPUs available: 1\n",
      "Using GPU number 0.\n"
     ]
    }
   ],
   "source": [
    "import torch\n",
    "\n",
    "try:\n",
    "    import my_code.mysionna\n",
    "except ImportError as e:\n",
    "    import sys\n",
    "    sys.path.append(\"../\")\n",
    "\n",
    "# Check if GPU is available\n",
    "if torch.cuda.is_available():\n",
    "    # Number of GPUs available\n",
    "    num_gpus = torch.cuda.device_count()\n",
    "    print('Number of GPUs available:', num_gpus)\n",
    "\n",
    "    # Specify which GPU to use\n",
    "    gpu_num = 0 # Number of the GPU to be used\n",
    "\n",
    "    if gpu_num < num_gpus:\n",
    "        device = torch.device(f'cuda:{gpu_num}')\n",
    "        print(f'Using GPU number {gpu_num}.')\n",
    "\n",
    "        # Set the specified GPU as the current device\n",
    "        torch.cuda.set_device(device)\n",
    "\n",
    "        # This functionality is built-in in PyTorch and does not need to be set manually.\n",
    "        # Memory growth equivalent in PyTorch is handled by default.\n",
    "    else:\n",
    "        print(f'GPU number {gpu_num} is not available. Using CPU.')\n",
    "        device = torch.device('cpu')\n",
    "else:\n",
    "    print('No GPU available. Using CPU.')\n",
    "    device = torch.device('cpu')\n",
    "\n",
    "# Example of how to use the device\n",
    "tensor = torch.tensor([1.0], device=device)\n"
   ]
  },
  {
   "cell_type": "code",
   "execution_count": 7,
   "metadata": {},
   "outputs": [],
   "source": [
    "import tensorflow as tf\n",
    "tf.keras.backend.clear_session()\n",
    "\n"
   ]
  }
 ],
 "metadata": {
  "kernelspec": {
   "display_name": "mysionna",
   "language": "python",
   "name": "python3"
  },
  "language_info": {
   "codemirror_mode": {
    "name": "ipython",
    "version": 3
   },
   "file_extension": ".py",
   "mimetype": "text/x-python",
   "name": "python",
   "nbconvert_exporter": "python",
   "pygments_lexer": "ipython3",
   "version": "3.11.5"
  }
 },
 "nbformat": 4,
 "nbformat_minor": 2
}
