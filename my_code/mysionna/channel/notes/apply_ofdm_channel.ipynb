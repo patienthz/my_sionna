{
 "cells": [
  {
   "cell_type": "markdown",
   "metadata": {},
   "source": [
    "## 使用example"
   ]
  },
  {
   "cell_type": "code",
   "execution_count": 10,
   "metadata": {},
   "outputs": [
    {
     "ename": "ModuleNotFoundError",
     "evalue": "No module named 'my_code'",
     "output_type": "error",
     "traceback": [
      "\u001b[0;31m---------------------------------------------------------------------------\u001b[0m",
      "\u001b[0;31mModuleNotFoundError\u001b[0m                       Traceback (most recent call last)",
      "Cell \u001b[0;32mIn[10], line 1\u001b[0m\n\u001b[0;32m----> 1\u001b[0m \u001b[38;5;28;01mfrom\u001b[39;00m \u001b[38;5;21;01mmy_code\u001b[39;00m\u001b[38;5;21;01m.\u001b[39;00m\u001b[38;5;21;01mmysionna\u001b[39;00m\u001b[38;5;21;01m.\u001b[39;00m\u001b[38;5;21;01mchannel\u001b[39;00m\u001b[38;5;21;01m.\u001b[39;00m\u001b[38;5;21;01mtorch_version\u001b[39;00m\u001b[38;5;21;01m.\u001b[39;00m\u001b[38;5;21;01mawgn\u001b[39;00m \u001b[38;5;28;01mimport\u001b[39;00m AWGN\n",
      "\u001b[0;31mModuleNotFoundError\u001b[0m: No module named 'my_code'"
     ]
    }
   ],
   "source": [
    "from my_code.mysionna.channel.torch_version.awgn import AWGN"
   ]
  },
  {
   "cell_type": "code",
   "execution_count": null,
   "metadata": {},
   "outputs": [
    {
     "ename": "ModuleNotFoundError",
     "evalue": "No module named 'sionna'",
     "output_type": "error",
     "traceback": [
      "\u001b[0;31m---------------------------------------------------------------------------\u001b[0m",
      "\u001b[0;31mModuleNotFoundError\u001b[0m                       Traceback (most recent call last)",
      "Cell \u001b[0;32mIn[4], line 1\u001b[0m\n\u001b[0;32m----> 1\u001b[0m \u001b[38;5;28;01mfrom\u001b[39;00m \u001b[38;5;21;01msionna\u001b[39;00m\u001b[38;5;21;01m.\u001b[39;00m\u001b[38;5;21;01mchannel\u001b[39;00m\u001b[38;5;21;01m.\u001b[39;00m\u001b[38;5;21;01mawgn\u001b[39;00m \u001b[38;5;28;01mimport\u001b[39;00m AWGN \n",
      "\u001b[0;31mModuleNotFoundError\u001b[0m: No module named 'sionna'"
     ]
    }
   ],
   "source": [
    "from sionna.channel.awgn import AWGN "
   ]
  },
  {
   "cell_type": "code",
   "execution_count": 8,
   "metadata": {},
   "outputs": [
    {
     "ename": "ModuleNotFoundError",
     "evalue": "No module named 'tensorflow'",
     "output_type": "error",
     "traceback": [
      "\u001b[0;31m---------------------------------------------------------------------------\u001b[0m",
      "\u001b[0;31mModuleNotFoundError\u001b[0m                       Traceback (most recent call last)",
      "Cell \u001b[0;32mIn[8], line 1\u001b[0m\n\u001b[0;32m----> 1\u001b[0m \u001b[38;5;28;01mimport\u001b[39;00m \u001b[38;5;21;01mtensorflow\u001b[39;00m \u001b[38;5;28;01mas\u001b[39;00m \u001b[38;5;21;01mtf\u001b[39;00m\n\u001b[1;32m      2\u001b[0m \u001b[38;5;28;01mfrom\u001b[39;00m \u001b[38;5;21;01msionna\u001b[39;00m\u001b[38;5;21;01m.\u001b[39;00m\u001b[38;5;21;01mchannel\u001b[39;00m\u001b[38;5;21;01m.\u001b[39;00m\u001b[38;5;21;01mapply_ofdm_channel\u001b[39;00m \u001b[38;5;28;01mimport\u001b[39;00m ApplyOFDMChannel  \n\u001b[1;32m      4\u001b[0m \u001b[38;5;66;03m# 定义输入\u001b[39;00m\n",
      "\u001b[0;31mModuleNotFoundError\u001b[0m: No module named 'tensorflow'"
     ]
    }
   ],
   "source": [
    "import tensorflow as tf\n",
    "from sionna.channel.apply_ofdm_channel import ApplyOFDMChannel  \n",
    "\n",
    "# 定义输入\n",
    "x_real = tf.random.normal([10, 2, 2, 14, 64], dtype=tf.float32)\n",
    "x_imag = tf.random.normal([10, 2, 2, 14, 64], dtype=tf.float32)\n",
    "x = tf.complex(x_real, x_imag)\n",
    "\n",
    "h_freq_real = tf.random.normal([10, 2, 2, 2, 2, 14, 64], dtype=tf.float32)\n",
    "h_freq_imag = tf.random.normal([10, 2, 2, 2, 2, 14, 64], dtype=tf.float32)\n",
    "h_freq = tf.complex(h_freq_real, h_freq_imag)\n",
    "\n",
    "no = tf.constant(0.01, dtype=tf.float32)  # 示例噪声功率\n",
    "\n",
    "# 创建 ApplyOFDMChannel 实例\n",
    "apply_ofdm_channel = ApplyOFDMChannel()\n",
    "\n",
    "# 调用实例\n",
    "y = apply_ofdm_channel((x, h_freq, no))\n",
    "\n",
    "print(y)\n"
   ]
  },
  {
   "cell_type": "markdown",
   "metadata": {},
   "source": [
    "## explain （tf version）\n",
    "这段代码定义了一个名为 `ApplyOFDMChannel` 的 TensorFlow Keras 层，用于在频域中应用单抽头 OFDM 信道响应。这是一个自定义的 Keras 层类，可以在 Keras 模型中使用。让我们逐行解释相关代码。\n",
    "\n",
    "### 导入必要的库\n",
    "```python\n",
    "import tensorflow as tf\n",
    "from sionna.utils import expand_to_rank\n",
    "from .awgn import AWGN\n",
    "```\n",
    "- `tensorflow`: 深度学习库，用于定义和训练神经网络。\n",
    "- `expand_to_rank`: 假设这是一个实用函数，用于扩展张量的维度。\n",
    "- `AWGN`: 假设这是一个添加加性高斯白噪声的自定义类。\n",
    "\n",
    "### 定义 ApplyOFDMChannel 类\n",
    "```python\n",
    "class ApplyOFDMChannel(tf.keras.layers.Layer):\n",
    "    r\"\"\"ApplyOFDMChannel(add_awgn=True, dtype=tf.complex64, **kwargs)\n",
    "    \n",
    "    ...\n",
    "    \"\"\"\n",
    "```\n",
    "- `ApplyOFDMChannel` 继承自 Keras 的 `Layer` 类。\n",
    "- 使用了 Keras 层的构造函数来初始化该类。\n",
    "\n",
    "#### `__init__` 方法\n",
    "```python\n",
    "def __init__(self, add_awgn=True, dtype=tf.complex64, **kwargs):\n",
    "    super().__init__(trainable=False, dtype=dtype, **kwargs)\n",
    "    self._add_awgn = add_awgn\n",
    "```\n",
    "- `__init__` 方法是类的构造函数。\n",
    "- `add_awgn`：布尔值，是否添加加性高斯白噪声。\n",
    "- `dtype`：处理和输出的复杂数据类型，默认为 `tf.complex64`。\n",
    "- `super().__init__`：调用父类的构造函数，并设置 `trainable=False` 表示该层不可训练。\n",
    "\n",
    "#### `build` 方法\n",
    "```python\n",
    "def build(self, input_shape):\n",
    "    if self._add_awgn:\n",
    "        self._awgn = AWGN(dtype=self.dtype)\n",
    "```\n",
    "- `build` 方法在第一次使用该层时被调用。\n",
    "- 如果 `add_awgn` 为 `True`，则初始化 `AWGN` 类的实例。\n",
    "\n",
    "#### `call` 方法\n",
    "```python\n",
    "def call(self, inputs):\n",
    "    if self._add_awgn:\n",
    "        x, h_freq, no = inputs\n",
    "    else:\n",
    "        x, h_freq = inputs\n",
    "\n",
    "    # Apply the channel response\n",
    "    x = expand_to_rank(x, h_freq.shape.rank, axis=1)\n",
    "    y = tf.reduce_sum(tf.reduce_sum(h_freq * x, axis=4), axis=3)\n",
    "\n",
    "    # Add AWGN if requested\n",
    "    if self._add_awgn:\n",
    "        y = self._awgn((y, no))\n",
    "\n",
    "    return y\n",
    "```\n",
    "- `call` 方法是层的核心逻辑。\n",
    "- `inputs` 是一个元组，可以是 `(x, h_freq, no)` 或 `(x, h_freq)`：\n",
    "  - `x`：OFDM 输入信号。\n",
    "  - `h_freq`：频域信道响应。\n",
    "  - `no`：噪声功率。\n",
    "- 根据 `add_awgn` 的值，解包输入元组。\n",
    "- `expand_to_rank`：扩展 `x` 的维度以匹配 `h_freq` 的秩（rank）。\n",
    "- `h_freq * x`：对输入信号应用频域信道响应。\n",
    "- `tf.reduce_sum(tf.reduce_sum(h_freq * x, axis=4), axis=3)`：沿特定轴求和以获得输出信号 `y`。\n",
    "- 如果 `add_awgn` 为 `True`，则调用 `AWGN` 实例添加噪声。\n",
    "- 返回经过信道和（可选）噪声处理后的输出信号 `y`。\n",
    "\n",
    "### 总结\n",
    "- `ApplyOFDMChannel` 类用于在频域中应用单抽头信道响应，并可选地添加噪声。\n",
    "- 该类继承自 `tf.keras.layers.Layer`，包含 `__init__`、`build` 和 `call` 方法。\n",
    "- `__init__` 方法初始化层的配置。\n",
    "- `build` 方法在第一次使用该层时被调用，初始化 AWGN 类的实例。\n",
    "- `call` 方法实现层的核心逻辑，对输入信号应用信道响应并可选地添加噪声。"
   ]
  },
  {
   "cell_type": "markdown",
   "metadata": {},
   "source": [
    "## explain （pytorch version）\n",
    "\n",
    "将 `ApplyOFDMChannel` 层从 TensorFlow 改写成 PyTorch 版本如下：\n",
    "\n",
    "\n",
    "\n",
    "### 定义 ApplyOFDMChannel 类\n",
    "```python\n",
    "class ApplyOFDMChannel(nn.Module):\n",
    "    def __init__(self, add_awgn=True, dtype=torch.complex64):\n",
    "        super(ApplyOFDMChannel, self).__init__()\n",
    "        self.add_awgn = add_awgn\n",
    "        self.dtype = dtype\n",
    "\n",
    "        if self.add_awgn:\n",
    "            self.awgn = AWGN(dtype=self.dtype)\n",
    "\n",
    "    def forward(self, inputs):\n",
    "        if self.add_awgn:\n",
    "            x, h_freq, no = inputs\n",
    "        else:\n",
    "            x, h_freq = inputs\n",
    "\n",
    "        # Apply the channel response\n",
    "        x = expand_to_rank(x, h_freq.dim(), axis=1)\n",
    "        y = torch.sum(torch.sum(h_freq * x, dim=4), dim=3)\n",
    "\n",
    "        # Add AWGN if requested\n",
    "        if self.add_awgn:\n",
    "            y = self.awgn((y, no))\n",
    "\n",
    "        return y\n",
    "```\n",
    "\n",
    "### 测试代码\n",
    "```python\n",
    "# 定义输入\n",
    "x_real = torch.randn([10, 2, 2, 14, 64], dtype=torch.float32)\n",
    "x_imag = torch.randn([10, 2, 2, 14, 64], dtype=torch.float32)\n",
    "x = torch.complex(x_real, x_imag)\n",
    "\n",
    "h_freq_real = torch.randn([10, 2, 2, 2, 2, 14, 64], dtype=torch.float32)\n",
    "h_freq_imag = torch.randn([10, 2, 2, 2, 2, 14, 64], dtype=torch.float32)\n",
    "h_freq = torch.complex(h_freq_real, h_freq_imag)\n",
    "\n",
    "no = torch.tensor(0.01, dtype=torch.float32)  # 示例噪声功率\n",
    "\n",
    "# 创建 ApplyOFDMChannel 实例\n",
    "apply_ofdm_channel = ApplyOFDMChannel()\n",
    "\n",
    "# 调用实例\n",
    "y = apply_ofdm_channel((x, h_freq, no))\n",
    "\n",
    "print(y)\n",
    "```\n",
    "\n",
    "### 代码解释\n",
    "1. **导入库**：\n",
    "   - `torch` 和 `torch.nn` 是 PyTorch 的核心库。\n",
    "   - `torch.nn.functional` 是用于定义操作和激活函数的库。\n",
    "\n",
    "2. **定义 `expand_to_rank` 函数**：\n",
    "   - 这个函数将张量 `x` 扩展到指定的目标秩 `target_rank`。\n",
    "\n",
    "3. **定义 `AWGN` 类**：\n",
    "   - `AWGN` 类添加加性高斯白噪声。\n",
    "   - `forward` 方法将噪声添加到输入信号 `y` 中。\n",
    "\n",
    "4. **定义 `ApplyOFDMChannel` 类**：\n",
    "   - `__init__` 方法初始化层的配置，包括是否添加噪声和数据类型。\n",
    "   - `forward` 方法实现层的核心逻辑，对输入信号应用信道响应并可选地添加噪声。\n",
    "\n",
    "5. **测试代码**：\n",
    "   - 定义输入信号 `x` 和频域信道响应 `h_freq`。\n",
    "   - 创建 `ApplyOFDMChannel` 类的实例并调用 `forward` 方法。\n",
    "\n",
    "这样就完成了将 `ApplyOFDMChannel` 从 TensorFlow 改写成 PyTorch 的代码。"
   ]
  },
  {
   "cell_type": "code",
   "execution_count": null,
   "metadata": {},
   "outputs": [
    {
     "ename": "",
     "evalue": "",
     "output_type": "error",
     "traceback": [
      "\u001b[1;31mRunning cells with 'Python 3.10.12' requires the ipykernel package.\n",
      "\u001b[1;31mRun the following command to install 'ipykernel' into the Python environment. \n",
      "\u001b[1;31mCommand: '/bin/python3 -m pip install ipykernel -U --user --force-reinstall'"
     ]
    }
   ],
   "source": [
    "import torch\n",
    "import torch.nn as nn\n",
    "import torch.nn.functional as F\n",
    "from my_code.mysionna.channel.torch_version.awgn import AWGN\n",
    "from my_code.mysionna.channel.torch_version.utils import expand_to_rank\n",
    "\n",
    "\n"
   ]
  },
  {
   "cell_type": "code",
   "execution_count": null,
   "metadata": {},
   "outputs": [
    {
     "ename": "",
     "evalue": "",
     "output_type": "error",
     "traceback": [
      "\u001b[1;31mRunning cells with 'Python 3.10.12' requires the ipykernel package.\n",
      "\u001b[1;31mRun the following command to install 'ipykernel' into the Python environment. \n",
      "\u001b[1;31mCommand: '/bin/python3 -m pip install ipykernel -U --user --force-reinstall'"
     ]
    }
   ],
   "source": [
    "\n",
    "import torch\n",
    "import torch.nn as nn\n",
    "import torch.nn.functional as F\n",
    "from my_code.mysionna.channel.torch_version.awgn import AWGN\n",
    "from my_code.mysionna.channel.torch_version.utils import expand_to_rank\n",
    "class ApplyOFDMChannel(nn.Module):\n",
    "    def __init__(self, add_awgn=True, dtype=torch.complex64):\n",
    "        super(ApplyOFDMChannel, self).__init__()\n",
    "        self.add_awgn = add_awgn\n",
    "        self.dtype = dtype\n",
    "        if self.add_awgn:\n",
    "            self.awgn = AWGN(dtype=self.dtype)\n",
    "\n",
    "    def forward(self, inputs):\n",
    "        if self.add_awgn:\n",
    "            x, h_freq, no = inputs\n",
    "        else:\n",
    "            x, h_freq = inputs\n",
    "\n",
    "        # Apply the channel response\n",
    "        x = expand_to_rank(x, h_freq.dim(), axis=1)\n",
    "        y = torch.sum(torch.sum(h_freq * x, dim=4), dim=3)\n",
    "\n",
    "        # Add AWGN if requested\n",
    "        if self.add_awgn:\n",
    "            y = self.awgn((y, no))\n",
    "\n",
    "        return y"
   ]
  },
  {
   "cell_type": "code",
   "execution_count": null,
   "metadata": {},
   "outputs": [
    {
     "ename": "",
     "evalue": "",
     "output_type": "error",
     "traceback": [
      "\u001b[1;31mRunning cells with 'Python 3.10.12' requires the ipykernel package.\n",
      "\u001b[1;31mRun the following command to install 'ipykernel' into the Python environment. \n",
      "\u001b[1;31mCommand: '/bin/python3 -m pip install ipykernel -U --user --force-reinstall'"
     ]
    }
   ],
   "source": [
    "x_real = torch.randn([10, 2, 2, 14, 64], dtype=torch.float32)\n",
    "x_imag = torch.randn([10, 2, 2, 14, 64], dtype=torch.float32)\n",
    "x = torch.complex(x_real, x_imag)\n",
    "\n",
    "h_freq_real = torch.randn([10, 2, 2, 2, 2, 14, 64], dtype=torch.float32)\n",
    "h_freq_imag = torch.randn([10, 2, 2, 2, 2, 14, 64], dtype=torch.float32)\n",
    "h_freq = torch.complex(h_freq_real, h_freq_imag)\n",
    "\n",
    "no = torch.tensor(0.01, dtype=torch.float32)  # 示例噪声功率\n",
    "\n",
    "# 创建 ApplyOFDMChannel 实例\n",
    "apply_ofdm_channel = ApplyOFDMChannel()\n",
    "\n",
    "# 调用实例\n",
    "y = apply_ofdm_channel((x, h_freq, no))\n",
    "\n",
    "print(y)"
   ]
  }
 ],
 "metadata": {
  "kernelspec": {
   "display_name": "tf",
   "language": "python",
   "name": "python3"
  },
  "language_info": {
   "codemirror_mode": {
    "name": "ipython",
    "version": 3
   },
   "file_extension": ".py",
   "mimetype": "text/x-python",
   "name": "python",
   "nbconvert_exporter": "python",
   "pygments_lexer": "ipython3",
   "version": "3.9.19"
  }
 },
 "nbformat": 4,
 "nbformat_minor": 2
}
