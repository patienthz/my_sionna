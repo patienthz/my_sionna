{
 "cells": [
  {
   "cell_type": "code",
   "execution_count": 11,
   "metadata": {},
   "outputs": [
    {
     "name": "stdout",
     "output_type": "stream",
     "text": [
      "Original tensor:\n",
      " tensor([[ 0.1571, -0.6021, -0.6281],\n",
      "        [-0.6021,  4.9617,  2.9200],\n",
      "        [-0.6281,  2.9200,  4.3224]], dtype=torch.float64)\n",
      "Square root of the tensor:\n",
      " tensor([[ 0.2683, -0.1866, -0.2242],\n",
      "        [-0.1866,  2.1024,  0.7119],\n",
      "        [-0.2242,  0.7119,  1.9405]], dtype=torch.float64)\n",
      "Product of sqrt and its transpose:\n",
      " tensor([[ 0.1571, -0.6021, -0.6281],\n",
      "        [-0.6021,  4.9617,  2.9200],\n",
      "        [-0.6281,  2.9200,  4.3224]], dtype=torch.float64)\n"
     ]
    }
   ],
   "source": [
    "import torch\n",
    "import my_code.mysionna as sn\n",
    "\n",
    "def matrix_sqrt(tensor):\n",
    "    r\"\"\" Computes the square root of a matrix.\n",
    "\n",
    "    Given a batch of Hermitian positive semi-definite matrices\n",
    "    :math:`\\mathbf{A}`, returns matrices :math:`\\mathbf{B}`,\n",
    "    such that :math:`\\mathbf{B}\\mathbf{B}^H = \\mathbf{A}`.\n",
    "\n",
    "    The two inner dimensions are assumed to correspond to the matrix rows\n",
    "    and columns, respectively.\n",
    "\n",
    "    Args:\n",
    "        tensor ([..., M, M]) : A tensor of rank greater than or equal\n",
    "            to two.\n",
    "\n",
    "    Returns:\n",
    "        A tensor of the same shape and type as ``tensor`` containing\n",
    "        the matrix square root of its last two dimensions.\n",
    "    \"\"\"\n",
    "    if sn.config.xla_compat and not tensor.is_grad_enabled():\n",
    "        s, u = torch.linalg.eigh(tensor)\n",
    "\n",
    "        # Compute sqrt of eigenvalues\n",
    "        s = torch.abs(s)\n",
    "        s = torch.sqrt(s)\n",
    "        s = s.type(dtype=u.dtype)\n",
    "\n",
    "        # Matrix multiplication\n",
    "        s = s.unsqueeze(-2)\n",
    "        return torch.matmul(u * s, torch.conj(torch.transpose(u, -2, -1)))\n",
    "    else:\n",
    "        s, u = torch.linalg.eigh(tensor)\n",
    "\n",
    "        # Compute sqrt of eigenvalues\n",
    "        s = torch.abs(s)\n",
    "        s = torch.sqrt(s)\n",
    "        s = s.type(dtype=u.dtype)\n",
    "\n",
    "        # Matrix multiplication\n",
    "        s = s.unsqueeze(-2)\n",
    "        return torch.matmul(u * s, torch.conj(torch.transpose(u, -2, -1)))\n",
    "# Example usage:\n",
    "tensor = torch.randn(3, 3, dtype=torch.float64)\n",
    "tensor = tensor @ tensor.T  # Make it positive semi-definite\n",
    "\n",
    "sqrt_tensor = matrix_sqrt(tensor)\n",
    "print(\"Original tensor:\\n\", tensor)\n",
    "print(\"Square root of the tensor:\\n\", sqrt_tensor)\n",
    "print(\"Product of sqrt and its transpose:\\n\", sqrt_tensor @ sqrt_tensor.T)"
   ]
  }
 ],
 "metadata": {
  "kernelspec": {
   "display_name": "mysionna",
   "language": "python",
   "name": "python3"
  },
  "language_info": {
   "codemirror_mode": {
    "name": "ipython",
    "version": 3
   },
   "file_extension": ".py",
   "mimetype": "text/x-python",
   "name": "python",
   "nbconvert_exporter": "python",
   "pygments_lexer": "ipython3",
   "version": "3.11.5"
  }
 },
 "nbformat": 4,
 "nbformat_minor": 2
}
