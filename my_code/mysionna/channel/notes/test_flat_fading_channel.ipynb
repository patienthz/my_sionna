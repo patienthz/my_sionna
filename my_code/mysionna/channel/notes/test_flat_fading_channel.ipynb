{
 "cells": [
  {
   "cell_type": "code",
   "execution_count": 18,
   "metadata": {},
   "outputs": [
    {
     "name": "stdout",
     "output_type": "stream",
     "text": [
      "Number of GPUs available: 1\n",
      "Only GPU number 0 used.\n",
      "cuda:0\n"
     ]
    }
   ],
   "source": [
    "import torch\n",
    "import torch.nn as nn\n",
    "\n",
    "# 获取所有可用的 GPU\n",
    "gpus = torch.cuda.device_count()\n",
    "print('Number of GPUs available:', gpus)\n",
    "\n",
    "if gpus > 0:\n",
    "    gpu_num = 0  # 要使用的 GPU 编号\n",
    "\n",
    "    # 设置默认的 GPU\n",
    "    torch.cuda.set_device(gpu_num)\n",
    "    print('Only GPU number', gpu_num, 'used.')\n",
    "\n",
    "    # 设置 GPU 内存增长模式\n",
    "    device = torch.device(f'cuda:{gpu_num}')\n",
    "    print(device)\n",
    "    torch.cuda.empty_cache()\n",
    "    try:\n",
    "        torch.cuda.memory_allocated = 0\n",
    "        torch.cuda.memory_reserved = 0\n",
    "    except RuntimeError as e:\n",
    "        print(e)\n"
   ]
  },
  {
   "cell_type": "code",
   "execution_count": 19,
   "metadata": {},
   "outputs": [],
   "source": [
    "class BinarySource(nn.Module):\n",
    "    \"\"\"\n",
    "    Layer generating random binary tensors.\n",
    "\n",
    "    Parameters\n",
    "    ----------\n",
    "    dtype : torch.dtype\n",
    "        Defines the output datatype of the layer.\n",
    "        Defaults to `torch.float32`.\n",
    "\n",
    "    seed : int or None\n",
    "        Set the seed for the random generator used to generate the bits.\n",
    "        Set to `None` for random initialization of the RNG.\n",
    "\n",
    "    device : torch.device or None\n",
    "        The device on which the tensor will be created.\n",
    "        Defaults to `None`, which means the tensor will be created on the CPU.\n",
    "\n",
    "    Input\n",
    "    -----\n",
    "    shape : 1D tensor/array/list, int\n",
    "        The desired shape of the output tensor.\n",
    "\n",
    "    Output\n",
    "    ------\n",
    "    : ``shape``, ``dtype``\n",
    "        Tensor filled with random binary values.\n",
    "    \"\"\"\n",
    "    def __init__(self, dtype=torch.float32, seed=None, device=None, **kwargs):\n",
    "        super().__init__(**kwargs)\n",
    "        self.dtype = dtype\n",
    "        self._seed = seed\n",
    "        self.device = device if device is not None else torch.device('cpu')\n",
    "        self._rng = torch.Generator(device=self.device)\n",
    "        if self._seed is not None:\n",
    "            self._rng.manual_seed(self._seed)\n",
    "\n",
    "    def forward(self, inputs):\n",
    "        if self._seed is not None:\n",
    "            return torch.randint(0, 2, inputs, generator=self._rng, dtype=torch.int32, device=self.device).to(self.dtype)\n",
    "        else:\n",
    "            return torch.randint(0, 2, inputs, dtype=torch.int32, device=self.device).to(self.dtype)\n"
   ]
  },
  {
   "cell_type": "code",
   "execution_count": 20,
   "metadata": {},
   "outputs": [
    {
     "name": "stdout",
     "output_type": "stream",
     "text": [
      "tensor([[1., 1., 0., 0., 1.],\n",
      "        [1., 0., 0., 0., 1.],\n",
      "        [1., 1., 1., 0., 1.],\n",
      "        [0., 0., 1., 0., 1.],\n",
      "        [1., 0., 1., 1., 1.],\n",
      "        [1., 0., 0., 1., 0.],\n",
      "        [1., 1., 0., 0., 1.],\n",
      "        [0., 0., 1., 1., 0.],\n",
      "        [1., 0., 1., 1., 0.],\n",
      "        [1., 1., 0., 0., 1.]], device='cuda:0')\n"
     ]
    }
   ],
   "source": [
    "# 示例用法\n",
    "device = torch.device('cuda' if torch.cuda.is_available() else 'cpu')\n",
    "binary_source = BinarySource(dtype=torch.float32, seed=42, device=device)\n",
    "output = binary_source(torch.Size([10, 5]))\n",
    "print(output)"
   ]
  }
 ],
 "metadata": {
  "kernelspec": {
   "display_name": "mysionna",
   "language": "python",
   "name": "python3"
  },
  "language_info": {
   "codemirror_mode": {
    "name": "ipython",
    "version": 3
   },
   "file_extension": ".py",
   "mimetype": "text/x-python",
   "name": "python",
   "nbconvert_exporter": "python",
   "pygments_lexer": "ipython3",
   "version": "3.11.5"
  }
 },
 "nbformat": 4,
 "nbformat_minor": 2
}
