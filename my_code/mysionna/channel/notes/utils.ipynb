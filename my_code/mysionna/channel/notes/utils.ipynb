{
 "cells": [
  {
   "cell_type": "markdown",
   "metadata": {},
   "source": [
    "## code (pytorch version)"
   ]
  },
  {
   "cell_type": "code",
   "execution_count": 1,
   "metadata": {},
   "outputs": [],
   "source": [
    "import torch\n",
    "\n",
    "def expand_to_rank(tensor, target_rank, axis=-1):\n",
    "    \"\"\"\n",
    "    Inserts as many axes to a tensor as needed to achieve a desired rank.\n",
    "\n",
    "    This operation inserts additional dimensions to a tensor starting at\n",
    "    `axis`, so that the rank of the resulting tensor has rank `target_rank`.\n",
    "    The dimension index follows Python indexing rules, i.e., zero-based,\n",
    "    where a negative index is counted backward from the end.\n",
    "\n",
    "    Args:\n",
    "        tensor (torch.Tensor): A tensor.\n",
    "        target_rank (int): The rank of the output tensor.\n",
    "            If `target_rank` is smaller than the rank of `tensor`,\n",
    "            the function does nothing.\n",
    "        axis (int): The dimension index at which to expand the\n",
    "               shape of `tensor`. Given a `tensor` of `D` dimensions,\n",
    "               `axis` must be within the range `[-(D+1), D]` (inclusive).\n",
    "\n",
    "    Returns:\n",
    "        torch.Tensor: A tensor with the same data as `tensor`, with\n",
    "            `target_rank` - rank(`tensor`) additional dimensions inserted at the\n",
    "            index specified by `axis`.\n",
    "            If `target_rank` <= rank(`tensor`), `tensor` is returned.\n",
    "    \"\"\"\n",
    "    current_rank = len(tensor.shape)\n",
    "    num_dims = max(target_rank - current_rank, 0)\n",
    "    for _ in range(num_dims):\n",
    "        tensor = torch.unsqueeze(tensor, dim=axis)\n",
    "    return tensor\n"
   ]
  }
 ],
 "metadata": {
  "kernelspec": {
   "display_name": "mysionna",
   "language": "python",
   "name": "python3"
  },
  "language_info": {
   "codemirror_mode": {
    "name": "ipython",
    "version": 3
   },
   "file_extension": ".py",
   "mimetype": "text/x-python",
   "name": "python",
   "nbconvert_exporter": "python",
   "pygments_lexer": "ipython3",
   "version": "3.11.5"
  }
 },
 "nbformat": 4,
 "nbformat_minor": 2
}
