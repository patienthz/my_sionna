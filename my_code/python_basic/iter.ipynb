{
 "cells": [
  {
   "cell_type": "markdown",
   "metadata": {},
   "source": [
    "在Python中，`iter`函数用于创建一个迭代器对象。迭代器是一个实现了迭代协议的对象，迭代协议包括`__iter__()`和`__next__()`方法。迭代器对象可以在容器中逐个访问元素，而无需将容器的所有元素加载到内存中，这使得迭代器特别适用于处理大数据集或流数据。\n",
    "\n",
    "### 基本用法\n",
    "\n",
    "#### 创建一个迭代器"
   ]
  },
  {
   "cell_type": "code",
   "execution_count": 4,
   "metadata": {},
   "outputs": [],
   "source": [
    "numbers = [1, 2, 3, 4, 5]\n",
    "iterator = iter(numbers)"
   ]
  },
  {
   "cell_type": "markdown",
   "metadata": {},
   "source": [
    "这里`numbers`是一个列表，通过`iter(numbers)`我们创建了一个迭代器对象`iterator`。"
   ]
  },
  {
   "cell_type": "markdown",
   "metadata": {},
   "source": [
    "#### 使用迭代器"
   ]
  },
  {
   "cell_type": "code",
   "execution_count": 5,
   "metadata": {},
   "outputs": [
    {
     "name": "stdout",
     "output_type": "stream",
     "text": [
      "1\n",
      "2\n",
      "3\n"
     ]
    }
   ],
   "source": [
    "print(next(iterator))  # 输出: 1\n",
    "print(next(iterator))  # 输出: 2\n",
    "print(next(iterator))  # 输出: 3"
   ]
  },
  {
   "cell_type": "markdown",
   "metadata": {},
   "source": [
    "- `next(iterator)`会返回迭代器的下一个元素。\n",
    "- 每次调用`next`，迭代器都会前进到下一个元素。\n",
    "- 如果没有更多元素可迭代，会引发`StopIteration`异常。"
   ]
  },
  {
   "cell_type": "markdown",
   "metadata": {},
   "source": [
    "### 迭代器的内部实现\n",
    "\n",
    "一个对象要成为迭代器，它必须实现两个方法：`__iter__()`和`__next__()`。\n",
    "\n",
    "#### 自定义迭代器示例"
   ]
  },
  {
   "cell_type": "code",
   "execution_count": 6,
   "metadata": {},
   "outputs": [],
   "source": [
    "class MyIterator:\n",
    "    def __init__(self, data):\n",
    "        self.data = data\n",
    "        self.index = 0\n",
    "    \n",
    "    def __iter__(self):\n",
    "        return self\n",
    "    \n",
    "    def __next__(self):\n",
    "        if self.index < len(self.data):\n",
    "            result = self.data[self.index]\n",
    "            self.index += 1\n",
    "            return result\n",
    "        else:\n",
    "            raise StopIteration\n",
    "\n",
    "my_iter = MyIterator([1, 2, 3, 4, 5])"
   ]
  },
  {
   "cell_type": "markdown",
   "metadata": {},
   "source": [
    "#### 使用自定义迭代器"
   ]
  },
  {
   "cell_type": "code",
   "execution_count": 3,
   "metadata": {},
   "outputs": [
    {
     "name": "stdout",
     "output_type": "stream",
     "text": [
      "1\n",
      "2\n",
      "3\n",
      "4\n",
      "5\n"
     ]
    }
   ],
   "source": [
    "for item in my_iter:\n",
    "    print(item)"
   ]
  },
  {
   "cell_type": "markdown",
   "metadata": {},
   "source": [
    "### 详细解释\n",
    "\n",
    "#### `__iter__()` 方法"
   ]
  },
  {
   "cell_type": "code",
   "execution_count": null,
   "metadata": {},
   "outputs": [],
   "source": [
    "def __iter__(self):\n",
    "    return self"
   ]
  },
  {
   "cell_type": "markdown",
   "metadata": {},
   "source": [
    "- `__iter__`方法返回迭代器对象本身。\n",
    "- 这使得迭代器对象可以与`for`循环和其他迭代上下文一起使用。\n",
    "\n",
    "#### `__next__()` 方法"
   ]
  },
  {
   "cell_type": "code",
   "execution_count": null,
   "metadata": {},
   "outputs": [],
   "source": [
    "def __next__(self):\n",
    "    if self.index < len(self.data):\n",
    "        result = self.data[self.index]\n",
    "        self.index += 1\n",
    "        return result\n",
    "    else:\n",
    "        raise StopIteration"
   ]
  },
  {
   "cell_type": "markdown",
   "metadata": {},
   "source": [
    "- `__next__`方法返回迭代器的下一个元素。\n",
    "- 如果还有元素可返回，更新索引并返回当前元素。\n",
    "- 如果没有更多元素，抛出`StopIteration`异常，停止迭代。\n",
    "\n",
    "### 结合 `iter` 和 `next` 使用\n",
    "\n",
    "`iter`和`next`函数经常结合使用来手动遍历可迭代对象。示例如下："
   ]
  },
  {
   "cell_type": "code",
   "execution_count": null,
   "metadata": {},
   "outputs": [],
   "source": [
    "numbers = [1, 2, 3]\n",
    "it = iter(numbers)\n",
    "\n",
    "while True:\n",
    "    try:\n",
    "        number = next(it)\n",
    "        print(number)\n",
    "    except StopIteration:\n",
    "        break"
   ]
  },
  {
   "cell_type": "markdown",
   "metadata": {},
   "source": [
    "这个示例手动实现了一个`for`循环的行为，通过`try`-`except`块捕获`StopIteration`异常以停止迭代。\n",
    "\n",
    "### 总结\n",
    "\n",
    "- `iter`函数创建一个迭代器对象，允许逐个访问容器的元素。\n",
    "- 迭代器通过实现`__iter__()`和`__next__()`方法遵循迭代协议。\n",
    "- `next`函数返回迭代器的下一个元素，并在没有更多元素时引发`StopIteration`异常。\n",
    "\n",
    "使用迭代器有助于高效地处理大数据集和流数据，因为它们可以按需生成元素，而不是一次性加载所有元素。"
   ]
  }
 ],
 "metadata": {
  "kernelspec": {
   "display_name": "Python 3",
   "language": "python",
   "name": "python3"
  },
  "language_info": {
   "codemirror_mode": {
    "name": "ipython",
    "version": 3
   },
   "file_extension": ".py",
   "mimetype": "text/x-python",
   "name": "python",
   "nbconvert_exporter": "python",
   "pygments_lexer": "ipython3",
   "version": "3.9.19"
  }
 },
 "nbformat": 4,
 "nbformat_minor": 2
}
