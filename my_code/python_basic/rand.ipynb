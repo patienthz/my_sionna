{
 "cells": [
  {
   "cell_type": "markdown",
   "metadata": {},
   "source": [
    "# 设置 tf 和 pytorch 的随机数种子\n",
    "\n",
    "\n"
   ]
  },
  {
   "cell_type": "code",
   "execution_count": 63,
   "metadata": {},
   "outputs": [
    {
     "name": "stdout",
     "output_type": "stream",
     "text": [
      "tf.Tensor([0.48295116 0.8671261  0.11581647 0.97698903], shape=(4,), dtype=float32)\n"
     ]
    }
   ],
   "source": [
    "# tensorflow\n",
    "import tensorflow as tf\n",
    "import random\n",
    "import numpy as np\n",
    "random_seed = 60\n",
    "tf.random.set_seed(random_seed)\n",
    "# np.random.seed(random_seed)\n",
    "# random.seed(random_seed)\n",
    "\n",
    "tf_tensor= tf.random.uniform(shape= (4,),dtype= tf.float32)\n",
    "print(tf_tensor)"
   ]
  },
  {
   "cell_type": "code",
   "execution_count": 34,
   "metadata": {},
   "outputs": [
    {
     "name": "stdout",
     "output_type": "stream",
     "text": [
      "tensor([0.0236, 0.3107, 0.8581, 0.4991])\n"
     ]
    }
   ],
   "source": [
    "# pytorch\n",
    "import torch\n",
    "import random\n",
    "import numpy as np\n",
    " \n",
    "random_seed = 60\n",
    "torch.manual_seed(random_seed)\n",
    "np.random.seed(random_seed)\n",
    "random.seed(random_seed)\n",
    "\n",
    "torch_tensor= torch.rand(size= (4,), dtype= torch.float32)\n",
    "print(torch_tensor)\n"
   ]
  },
  {
   "cell_type": "code",
   "execution_count": 30,
   "metadata": {},
   "outputs": [
    {
     "name": "stdout",
     "output_type": "stream",
     "text": [
      "第一次随机数生成结果:\n",
      "tensor([[0.0236, 0.3107, 0.8581],\n",
      "        [0.4991, 0.7348, 0.6979],\n",
      "        [0.4319, 0.7147, 0.1445]])\n",
      "第二次随机数生成结果:\n",
      "tensor([[0.0236, 0.3107, 0.8581],\n",
      "        [0.4991, 0.7348, 0.6979],\n",
      "        [0.4319, 0.7147, 0.1445]])\n",
      "\n",
      "第三次随机数生成结果:\n",
      "tensor([[0.6815, 0.0039, 0.7451],\n",
      "        [0.7946, 0.6127, 0.6803],\n",
      "        [0.9820, 0.0019, 0.1609]])\n"
     ]
    }
   ],
   "source": [
    "# experiment\n",
    "import torch\n",
    "\n",
    "# 设置随机种子\n",
    "torch.manual_seed(60)\n",
    "\n",
    "# 创建一个随机数张量\n",
    "random_tensor_1 = torch.rand(3, 3)\n",
    "print(\"第一次随机数生成结果:\")\n",
    "print(random_tensor_1)\n",
    "\n",
    "# 再次随机生成，第二次结果和第一次是一样的\n",
    "torch.manual_seed(60)\n",
    "random_tensor_2 = torch.rand(3, 3)\n",
    "print(\"第二次随机数生成结果:\")\n",
    "print(random_tensor_2)\n",
    "\n",
    "# 重新设置不的随机种子\n",
    "torch.manual_seed(456)\n",
    "\n",
    "# 再次创建一个随机数张量：因为设置了不同的随机数种子，这次生成的结果不和之前两次不同\n",
    "random_tensor_3 = torch.rand(3, 3)\n",
    "print(\"\\n第三次随机数生成结果:\")\n",
    "print(random_tensor_3)\n"
   ]
  },
  {
   "cell_type": "code",
   "execution_count": 65,
   "metadata": {},
   "outputs": [
    {
     "name": "stdout",
     "output_type": "stream",
     "text": [
      "NumPy Random Numbers: [0.30087333 0.18694582 0.32318268 0.66574957]\n",
      "TensorFlow Random Numbers: [0.30087333 0.18694582 0.32318268 0.66574957]\n",
      "PyTorch Random Numbers: [0.30087333 0.18694582 0.32318268 0.66574957]\n"
     ]
    }
   ],
   "source": [
    "import numpy as np\n",
    "import tensorflow as tf\n",
    "import torch\n",
    "\n",
    "# 设置随机种子\n",
    "seed = 60\n",
    "np.random.seed(seed)\n",
    "\n",
    "# 使用 NumPy 生成随机数\n",
    "np_random_numbers = np.random.rand(4)\n",
    "\n",
    "# TensorFlow 使用相同的 NumPy 随机数\n",
    "tf_random_numbers = tf.convert_to_tensor(np_random_numbers, dtype=tf.float64)\n",
    "\n",
    "# PyTorch 使用相同的 NumPy 随机数\n",
    "torch_random_numbers = torch.tensor(np_random_numbers, dtype=torch.float64)\n",
    "\n",
    "print(\"NumPy Random Numbers:\", np_random_numbers)\n",
    "print(\"TensorFlow Random Numbers:\", tf_random_numbers.numpy())\n",
    "print(\"PyTorch Random Numbers:\", torch_random_numbers.numpy())"
   ]
  },
  {
   "cell_type": "code",
   "execution_count": 64,
   "metadata": {},
   "outputs": [
    {
     "name": "stdout",
     "output_type": "stream",
     "text": [
      "[3]\n"
     ]
    }
   ],
   "source": [
    "import torch\n",
    "\n",
    "tensor = torch.randn(3, )\n",
    "size = tensor.size()\n",
    "\n",
    "# 将 torch.Size 对象转换为整数列表\n",
    "size_list = list(size)\n",
    "print(size_list)  # 输出: [3, 4, 5]\n"
   ]
  }
 ],
 "metadata": {
  "kernelspec": {
   "display_name": "mysionna",
   "language": "python",
   "name": "python3"
  },
  "language_info": {
   "codemirror_mode": {
    "name": "ipython",
    "version": 3
   },
   "file_extension": ".py",
   "mimetype": "text/x-python",
   "name": "python",
   "nbconvert_exporter": "python",
   "pygments_lexer": "ipython3",
   "version": "3.11.5"
  }
 },
 "nbformat": 4,
 "nbformat_minor": 2
}
