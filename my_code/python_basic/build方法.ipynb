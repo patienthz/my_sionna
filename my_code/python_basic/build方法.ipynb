{
 "cells": [
  {
   "cell_type": "markdown",
   "metadata": {},
   "source": [
    "## 在改写过程中为什么没有保留build方法，可以保留吗？\n",
    "在改写过程中没有保留 `build` 方法的主要原因是，PyTorch 中的自定义层（`nn.Module` 的子类）通常不需要像 TensorFlow 中那样显式地定义 `build` 方法来验证输入形状。PyTorch 中的层可以在 `__init__` 方法中初始化所有需要的参数，并在 `forward` 方法中处理输入数据。\n",
    "\n",
    "### TensorFlow 和 PyTorch 的区别\n",
    "\n",
    "1. **TensorFlow 的 `build` 方法**：\n",
    "   - 在 TensorFlow 中，`build` 方法通常用于根据输入形状动态构建层的参数（例如权重和偏置），并验证输入的形状是否符合预期。这在需要根据输入形状动态创建参数的情况下特别有用。\n",
    "\n",
    "2. **PyTorch 的 `__init__` 和 `forward` 方法**：\n",
    "   - 在 PyTorch 中，通常在 `__init__` 方法中初始化层的参数（例如权重），而不需要显式的 `build` 方法。`forward` 方法则用于定义层的正向传播逻辑，处理输入数据并返回输出。\n",
    "\n",
    "### 是否可以保留 `build` 方法？\n",
    "\n",
    "尽管在 PyTorch 中不需要 `build` 方法来动态创建层的参数，但是如果您有特定的需求，想要在初始化阶段进行一些额外的验证或操作（如验证输入形状），完全可以保留 `build` 方法。在实际应用中，保留 `build` 方法可能会增加代码的可读性和模块化程度，尤其是在需要复杂的初始化逻辑或输入形状验证时。\n",
    "\n",
    "### 示例修改（保留 `build` 方法）\n",
    "\n",
    "以下是在 PyTorch 中保留 `build` 方法的示例修改：\n"
   ]
  },
  {
   "cell_type": "code",
   "execution_count": 2,
   "metadata": {},
   "outputs": [
    {
     "name": "stdout",
     "output_type": "stream",
     "text": [
      "tensor([-100.,  100.,  100., -100.])\n"
     ]
    }
   ],
   "source": [
    "import torch\n",
    "import torch.nn as nn\n",
    "import torch.nn.functional as F\n",
    "\n",
    "class BinaryErasureChannel(nn.Module):\n",
    "    def __init__(self, return_llrs=False, bipolar_input=False, llr_max=100, dtype=torch.float32):\n",
    "        super().__init__()\n",
    "        self.return_llrs = return_llrs\n",
    "        self.bipolar_input = bipolar_input\n",
    "        self.llr_max = llr_max\n",
    "        self.dtype = dtype\n",
    "\n",
    "        assert dtype in (torch.float16, torch.float32, torch.float64,\n",
    "                         torch.int8, torch.int16, torch.int32, torch.int64), \\\n",
    "               \"Unsigned integers are currently not supported.\"\n",
    "\n",
    "    def forward(self, x, pb):\n",
    "        # Example validation of input x\n",
    "        if not self.bipolar_input:\n",
    "            assert torch.all((x == 0) | (x == 1)), \"Input x must be binary (0 or 1).\"\n",
    "        else:\n",
    "            assert torch.all((x == -1) | (x == 1)), \"Input x must be bipolar (-1 or 1).\"\n",
    "\n",
    "        # Example validation of pb\n",
    "        pb = pb.float().clamp(0., 1.)\n",
    "\n",
    "        e = self._sample_errors(pb, x.size())\n",
    "\n",
    "        if self.return_llrs:\n",
    "            if not self.bipolar_input:\n",
    "                x = 2 * x - 1\n",
    "            x = x.to(torch.float32) * self.llr_max\n",
    "            y = torch.where(e == 1, torch.tensor(0, dtype=torch.float32), x)\n",
    "        else:\n",
    "            erased_element = torch.tensor(0, dtype=x.dtype) if self.bipolar_input else torch.tensor(-1, dtype=x.dtype)\n",
    "            y = torch.where(e == 0, x, erased_element)\n",
    "\n",
    "        return y\n",
    "\n",
    "    def _sample_errors(self, pb, shape):\n",
    "        u = torch.rand(shape)\n",
    "        e = (u < pb).float()\n",
    "        return e\n",
    "\n",
    "# Usage example\n",
    "input_data = torch.tensor([0, 1, 1, 0])\n",
    "pb = torch.tensor(0.2)\n",
    "channel = BinaryErasureChannel(return_llrs=True, bipolar_input=False)\n",
    "\n",
    "output = channel(input_data, pb)\n",
    "print(output)\n"
   ]
  }
 ],
 "metadata": {
  "kernelspec": {
   "display_name": "mysionna",
   "language": "python",
   "name": "python3"
  },
  "language_info": {
   "codemirror_mode": {
    "name": "ipython",
    "version": 3
   },
   "file_extension": ".py",
   "mimetype": "text/x-python",
   "name": "python",
   "nbconvert_exporter": "python",
   "pygments_lexer": "ipython3",
   "version": "3.11.5"
  }
 },
 "nbformat": 4,
 "nbformat_minor": 2
}
