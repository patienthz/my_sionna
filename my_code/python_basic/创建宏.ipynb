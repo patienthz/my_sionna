{
 "cells": [
  {
   "cell_type": "markdown",
   "metadata": {},
   "source": [
    "# 创建方法\n",
    "在 Python 中，可以通过创建一个单独的模块（文件）来定义全局变量或常量，然后在其他模块中导入该模块以访问这些全局变量或常量。这种方式可以确保这些变量或常量在整个项目中保持一致。以下是具体步骤：\n",
    "\n",
    "### 1. 创建一个配置文件\n",
    "\n",
    "创建一个名为 `config.py` 的文件，并在其中定义全局变量或常量。\n",
    "\n",
    "```python\n",
    "# config.py\n",
    "GLOBAL_VAR1 = 100\n",
    "GLOBAL_VAR2 = \"Hello, World!\"\n",
    "\n",
    "def some_function():\n",
    "    return \"This is a function in the config module\"\n",
    "```\n",
    "\n",
    "### 2. 在其他文件中导入配置文件\n",
    "\n",
    "在需要使用这些全局变量或常量的其他文件中导入 `config` 模块。\n",
    "\n",
    "#### 示例\n",
    "\n",
    "假设有一个文件 `main.py`，在其中我们需要使用 `config.py` 中定义的变量和函数。\n",
    "\n",
    "```python\n",
    "# main.py\n",
    "import config\n",
    "\n",
    "def main():\n",
    "    print(config.GLOBAL_VAR1)  # 输出: 100\n",
    "    print(config.GLOBAL_VAR2)  # 输出: Hello, World!\n",
    "    print(config.some_function())  # 输出: This is a function in the config module\n",
    "\n",
    "if __name__ == \"__main__\":\n",
    "    main()\n",
    "```\n",
    "\n",
    "### 3. 在子目录中使用配置文件\n",
    "\n",
    "如果你的项目有子目录，你仍然可以使用相同的方法，但需要确保 Python 的导入路径正确。假设有以下项目结构：\n",
    "\n",
    "```\n",
    "my_project/\n",
    "│\n",
    "├── config.py\n",
    "├── main.py\n",
    "└── subdir/\n",
    "    └── submodule.py\n",
    "```\n",
    "\n",
    "在 `submodule.py` 中使用 `config` 模块：\n",
    "\n",
    "```python\n",
    "# subdir/submodule.py\n",
    "import sys\n",
    "sys.path.append('..')  # 添加父目录到系统路径，确保可以找到 config 模块\n",
    "\n",
    "import config\n",
    "\n",
    "def submodule_function():\n",
    "    print(config.GLOBAL_VAR1)\n",
    "    print(config.GLOBAL_VAR2)\n",
    "\n",
    "if __name__ == \"__main__\":\n",
    "    submodule_function()\n",
    "```\n",
    "\n",
    "### 4. 使用相对导入（适用于包结构）\n",
    "\n",
    "如果你的项目是一个包，推荐使用相对导入。修改项目结构如下：\n",
    "\n",
    "```\n",
    "my_project/\n",
    "│\n",
    "├── __init__.py\n",
    "├── config.py\n",
    "├── main.py\n",
    "└── subdir/\n",
    "    ├── __init__.py\n",
    "    └── submodule.py\n",
    "```\n",
    "\n",
    "在 `submodule.py` 中使用相对导入：\n",
    "\n",
    "```python\n",
    "# subdir/submodule.py\n",
    "from .. import config\n",
    "\n",
    "def submodule_function():\n",
    "    print(config.GLOBAL_VAR1)\n",
    "    print(config.GLOBAL_VAR2)\n",
    "\n",
    "if __name__ == \"__main__\":\n",
    "    submodule_function()\n",
    "```\n",
    "\n",
    "### 总结\n",
    "\n",
    "通过创建一个单独的配置文件（例如 `config.py`）并在需要使用全局变量或常量的其他文件中导入该配置文件，可以方便地在整个项目中共享全局变量或常量。根据项目结构的不同，可以使用绝对导入、相对导入或调整系统路径来确保模块导入正确。"
   ]
  },
  {
   "cell_type": "markdown",
   "metadata": {},
   "source": [
    "# 实践（in sionna project）"
   ]
  },
  {
   "cell_type": "markdown",
   "metadata": {},
   "source": [
    "1. 在`my_sionna/sionna/constants.py`下创建一个宏"
   ]
  },
  {
   "cell_type": "code",
   "execution_count": 1,
   "metadata": {},
   "outputs": [],
   "source": [
    "GLOBAL_SEED_NUMBER = 100 # 随机数种子，可修改"
   ]
  },
  {
   "cell_type": "markdown",
   "metadata": {},
   "source": [
    "2. 在所需要的文件中导入宏："
   ]
  },
  {
   "cell_type": "code",
   "execution_count": 2,
   "metadata": {},
   "outputs": [
    {
     "name": "stderr",
     "output_type": "stream",
     "text": [
      "2024-07-10 11:06:47.149863: E external/local_xla/xla/stream_executor/cuda/cuda_dnn.cc:9261] Unable to register cuDNN factory: Attempting to register factory for plugin cuDNN when one has already been registered\n",
      "2024-07-10 11:06:47.149912: E external/local_xla/xla/stream_executor/cuda/cuda_fft.cc:607] Unable to register cuFFT factory: Attempting to register factory for plugin cuFFT when one has already been registered\n",
      "2024-07-10 11:06:47.151410: E external/local_xla/xla/stream_executor/cuda/cuda_blas.cc:1515] Unable to register cuBLAS factory: Attempting to register factory for plugin cuBLAS when one has already been registered\n",
      "2024-07-10 11:06:47.159920: I tensorflow/core/platform/cpu_feature_guard.cc:182] This TensorFlow binary is optimized to use available CPU instructions in performance-critical operations.\n",
      "To enable the following instructions: AVX2 FMA, in other operations, rebuild TensorFlow with the appropriate compiler flags.\n",
      "2024-07-10 11:06:48.486789: W tensorflow/compiler/tf2tensorrt/utils/py_utils.cc:38] TF-TRT Warning: Could not find TensorRT\n"
     ]
    }
   ],
   "source": [
    "from sionna.constants import GLOBAL_SEED_NUMBER"
   ]
  },
  {
   "cell_type": "markdown",
   "metadata": {},
   "source": [
    "3. 创建一个numpy生成随机数的函数，并支持将数据转化成 tf.tensor"
   ]
  },
  {
   "cell_type": "code",
   "execution_count": 5,
   "metadata": {},
   "outputs": [],
   "source": [
    "# sionna/rand.py\n",
    "import numpy as np\n",
    "import tensorflow as tf\n",
    "import torch\n",
    "\n",
    "# 参数说明：\n",
    "# seed --> 随机种子\n",
    "# shape --> 生成形状\n",
    "# dtype --> 数据类型 \n",
    "# version --> 返回类型 0 代表 tf ； 1 代表 torch\n",
    "# 功能说明，随机生成 numpy 类型随机数 ， 并转换成 tf.tensor or Tensor（torch）\n",
    "def set_random_numbers(seed=100,shape=None,dtype=np.float32,version=None):\n",
    "    np.random.seed(seed)\n",
    "    np_random_numbers = np.random.rand(shape)\n",
    "    #version =0 :tensorflow;version =1 :pytorch\n",
    "    if version == 0:\n",
    "        tf_random_numbers = tf.convert_to_tensor(np_random_numbers, dtype=tf.float32)\n",
    "        return tf_random_numbers\n",
    "    elif version == 1:\n",
    "        torch_random_numbers=torch.tensor(np_random_numbers,dtype=torch.float32)\n",
    "        return torch_random_numbers"
   ]
  }
 ],
 "metadata": {
  "kernelspec": {
   "display_name": "mysionna",
   "language": "python",
   "name": "python3"
  },
  "language_info": {
   "codemirror_mode": {
    "name": "ipython",
    "version": 3
   },
   "file_extension": ".py",
   "mimetype": "text/x-python",
   "name": "python",
   "nbconvert_exporter": "python",
   "pygments_lexer": "ipython3",
   "version": "3.11.5"
  }
 },
 "nbformat": 4,
 "nbformat_minor": 2
}
