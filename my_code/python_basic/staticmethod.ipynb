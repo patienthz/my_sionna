{
 "cells": [
  {
   "cell_type": "markdown",
   "metadata": {},
   "source": [
    "# @staticmethod & @property "
   ]
  },
  {
   "cell_type": "markdown",
   "metadata": {},
   "source": [
    "`@property` 和 `@staticmethod` 是 Python 中两种不同的装饰器，用于不同的目的。以下是它们的区别：\n",
    "\n",
    "### `@property`\n",
    "\n",
    "`@property` 是一个装饰器，用于将一个类的方法转换为属性。使用 `@property` 装饰的方法可以像访问属性一样访问，而不需要显式地调用它。\n",
    "\n",
    "#### 用法\n",
    "- `@property` 装饰的方法通常用于计算属性值或进行一些逻辑操作，而不是简单地存储和返回一个值。\n",
    "- 可以定义 getter、setter 和 deleter 方法，从而允许在访问、设置和删除属性时执行一些逻辑。\n",
    "\n",
    "#### 示例"
   ]
  },
  {
   "cell_type": "code",
   "execution_count": 3,
   "metadata": {},
   "outputs": [
    {
     "name": "stdout",
     "output_type": "stream",
     "text": [
      "5\n",
      "78.5\n",
      "10\n",
      "314.0\n"
     ]
    }
   ],
   "source": [
    "class Circle:\n",
    "    def __init__(self, radius):\n",
    "        self._radius = radius\n",
    "\n",
    "    @property\n",
    "    def radius(self):\n",
    "        return self._radius\n",
    "\n",
    "    @radius.setter\n",
    "    def radius(self, value):\n",
    "        if value < 0:\n",
    "            raise ValueError(\"Radius cannot be negative\")\n",
    "        self._radius = value\n",
    "\n",
    "    @property\n",
    "    def area(self):\n",
    "        return 3.14 * self._radius ** 2\n",
    "\n",
    "# 使用\n",
    "circle = Circle(5)\n",
    "print(circle.radius)  # 5\n",
    "print(circle.area)    # 78.5\n",
    "\n",
    "circle.radius = 10\n",
    "print(circle.radius)  # 10\n",
    "print(circle.area)    # 314.0"
   ]
  },
  {
   "cell_type": "markdown",
   "metadata": {},
   "source": [
    "在这个例子中，`radius` 属性有 getter 和 setter 方法，而 `area` 属性只有一个 getter 方法。\n",
    "\n",
    "### `@staticmethod`\n",
    "\n",
    "`@staticmethod` 是一个装饰器，用于定义一个静态方法。静态方法不需要访问实例或类本身，可以直接通过类名调用。静态方法没有 `self` 或 `cls` 参数，因为它们不依赖于实例或类状态。\n",
    "\n",
    "#### 用法\n",
    "- `@staticmethod` 装饰的方法通常用于封装与类相关但不依赖于类或实例状态的逻辑。\n",
    "- 它们可以直接通过类名调用，而不需要实例化类。\n",
    "\n",
    "#### 示例"
   ]
  },
  {
   "cell_type": "code",
   "execution_count": 4,
   "metadata": {},
   "outputs": [
    {
     "name": "stdout",
     "output_type": "stream",
     "text": [
      "8\n",
      "15\n"
     ]
    }
   ],
   "source": [
    "class Math:\n",
    "    @staticmethod\n",
    "    def add(a, b):\n",
    "        return a + b\n",
    "\n",
    "    @staticmethod\n",
    "    def multiply(a, b):\n",
    "        return a * b\n",
    "\n",
    "# 使用\n",
    "print(Math.add(5, 3))       # 8\n",
    "print(Math.multiply(5, 3))  # 15"
   ]
  },
  {
   "cell_type": "markdown",
   "metadata": {},
   "source": [
    "在这个例子中，`add` 和 `multiply` 方法是静态方法，它们不依赖于 `Math` 类的任何实例或类属性。\n",
    "\n",
    "### 区别总结\n",
    "\n",
    "- **`@property`**: 用于将方法转换为属性，可以定义 getter、setter 和 deleter 方法，以便在访问、设置和删除属性时执行一些逻辑。\n",
    "- **`@staticmethod`**: 用于定义一个静态方法，静态方法不依赖于实例或类状态，可以直接通过类名调用，不需要 `self` 或 `cls` 参数。"
   ]
  }
 ],
 "metadata": {
  "kernelspec": {
   "display_name": "mysionna",
   "language": "python",
   "name": "python3"
  },
  "language_info": {
   "codemirror_mode": {
    "name": "ipython",
    "version": 3
   },
   "file_extension": ".py",
   "mimetype": "text/x-python",
   "name": "python",
   "nbconvert_exporter": "python",
   "pygments_lexer": "ipython3",
   "version": "3.11.5"
  }
 },
 "nbformat": 4,
 "nbformat_minor": 2
}
